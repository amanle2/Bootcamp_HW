{
 "cells": [
  {
   "cell_type": "code",
   "execution_count": 1,
   "id": "29e8aaa4-814b-4b74-bc8a-f9aa24fb66d5",
   "metadata": {},
   "outputs": [],
   "source": [
    "# Import dependencies\n",
    "import subprocess\n",
    "import json\n",
    "from dotenv import load_dotenv\n",
    "import os"
   ]
  },
  {
   "cell_type": "code",
   "execution_count": 2,
   "id": "48ac0b5e-b1af-4636-a7d0-39835978de99",
   "metadata": {},
   "outputs": [],
   "source": [
    "# Load and set environment variables\n",
    "load_dotenv()\n",
    "mnemonic=os.getenv(\"mnemonic\")\n"
   ]
  },
  {
   "cell_type": "code",
   "execution_count": 3,
   "id": "d0ca9585-0d6e-476d-b3ba-38cc096a32b3",
   "metadata": {},
   "outputs": [],
   "source": [
    "# Import constants.py and necessary functions from bit and web3\n",
    "from constants import *\n",
    "import eth_account\n",
    "from web3 import Web3\n",
    "from web3.auto.gethdev import w3\n",
    "from web3.middleware import geth_poa_middleware\n",
    "from eth_account import Account\n",
    "from bit import PrivateKeyTestnet\n",
    "from bit.network import NetworkAPI"
   ]
  },
  {
   "cell_type": "code",
   "execution_count": 4,
   "id": "f1db2e01-bff7-421c-828d-79148a6aab0f",
   "metadata": {},
   "outputs": [],
   "source": [
    "# Create a function called `derive_wallets`\n",
    "def derive_wallets(coin):\n",
    "    command = 'php derive -g --mnemonic=\"{mnemonic}\" --cols=path,address,privkey,pubkey --format=json'\n",
    "    p = subprocess.Popen(command, stdout=subprocess.PIPE, shell=True)\n",
    "    output, err = p.communicate()\n",
    "    p_status = p.wait()\n",
    "    return json.loads(output)"
   ]
  },
  {
   "cell_type": "code",
   "execution_count": 5,
   "id": "d7d5fb0b-ae9c-4cd9-a053-319c73ba4443",
   "metadata": {},
   "outputs": [],
   "source": [
    "# Create a dictionary object called coins to store the output from `derive_wallets`.\n",
    "coins = {\n",
    "    ETH: derive_wallets(ETH),\n",
    "    BTCTEST: derive_wallets(BTCTEST)\n",
    "}\n"
   ]
  },
  {
   "cell_type": "code",
   "execution_count": 6,
   "id": "8b7932c1-a072-47e6-846e-3bb7f8d6bb52",
   "metadata": {
    "tags": []
   },
   "outputs": [
    {
     "data": {
      "text/plain": [
       "{'eth': [{'path': \"m/44'/0'/0'/0/0\",\n",
       "   'address': '15Ji2eBZxbjw7kpeU7A2KXRs2k6wHbaESS',\n",
       "   'privkey': 'KzfiLVcitrrvW7jUcwxKbEHSjsXDKq47X5w3r7uh8DJTThmjZD3R',\n",
       "   'pubkey': '02fecd1c9636ba4663df6d72b2c3959bee27530807af098173938c608e3c34cd18'},\n",
       "  {'path': \"m/44'/0'/0'/0/1\",\n",
       "   'address': '1BVCTgqVXuVUugbJVYi2SVAn1WivewzPT1',\n",
       "   'privkey': 'KxJrcUcg9MyeGmJF8M3QzQ1d5BwzJxj5ErqwbJ4EkapQBzx9RZtx',\n",
       "   'pubkey': '029ff90cfd29575b78928a39a22ba490236c26044d80584748a5e88ebea81a7c9f'},\n",
       "  {'path': \"m/44'/0'/0'/0/2\",\n",
       "   'address': '1HAWgDGTxgd44gb97Hw4KGxuCmnzTPRU4A',\n",
       "   'privkey': 'L4VhtgSRBAQ3zWTd72H5F8MqW1R1E8bTJq3aAxVqzQBrAS5nWnx4',\n",
       "   'pubkey': '02fac020fed67ceaaa4f8e138a48a2b77334ec7db239f3ecd6584cff1d529938a5'},\n",
       "  {'path': \"m/44'/0'/0'/0/3\",\n",
       "   'address': '13HZsdcLSeF8bsLfp8ZU5MeeKyHd7qrLE1',\n",
       "   'privkey': 'L3edFknWVyxJZbpZ3hMmAQ2jFNKJ8pS4AKTDVGCDKpWBNXw9LumQ',\n",
       "   'pubkey': '022f51845cf80a5c71a2c695f9457c838a5a442253ebca5ce168ab0acfeffa9224'},\n",
       "  {'path': \"m/44'/0'/0'/0/4\",\n",
       "   'address': '1DWH882tEuHzj1zkXypQFDfmWzYQPLDQYb',\n",
       "   'privkey': 'KyFvkXuuJBiGUXsUx4cEWwH3ijg8LKiRgFVqqZoEGNz5tzfPLSq1',\n",
       "   'pubkey': '0312be9e47aedc60dd4707f3d9f9cea400af956f7d3adfd9acdac35115aece0d63'},\n",
       "  {'path': \"m/44'/0'/0'/0/5\",\n",
       "   'address': '1LV6Em5HhLSXns2MbBcMjnDJUqG4WCu8gL',\n",
       "   'privkey': 'L4Sr3U8X3F3yR7URJQPyWuBj42ZWePTbNQgcogDM7m3ypsnc16BW',\n",
       "   'pubkey': '033a448588ce8333bb0c9072c3e3e1c5a51d71368f8d4908e18e51f5bfaf71535f'},\n",
       "  {'path': \"m/44'/0'/0'/0/6\",\n",
       "   'address': '14tGEQ1zqmDHrj7MoLC4NEYeKbjTR34hhw',\n",
       "   'privkey': 'L2LrApKYzKgCvKPHU2KvzPjtCsnGuQMEr5Pwr5ffSRXMJ6auRdo8',\n",
       "   'pubkey': '03d4a29c70adebd60ff4803c990bc0609d1dad329c16ec2a1c9a0de28725b307d0'},\n",
       "  {'path': \"m/44'/0'/0'/0/7\",\n",
       "   'address': '1GVGcpHkt23k3bwsTi78kr3UE1goQdvXYU',\n",
       "   'privkey': 'KwhboT9vvrf1m1jd73sbEjymwsC7YKtsNMaHRGZ6BbE1BLt22rb7',\n",
       "   'pubkey': '0289f6ba6f90868498182855a31e65f70f5d65c8cf58b5f70c46886c5593ca5589'},\n",
       "  {'path': \"m/44'/0'/0'/0/8\",\n",
       "   'address': '19F1TXpNnqybBwavZyhQaqXsqWJ9TC1Fvt',\n",
       "   'privkey': 'KwTcbbMDiZkLBSCuueizRmXxcaYAZZ5iex5eXj8KDTJEXDEp6WoN',\n",
       "   'pubkey': '03098310069f8cbf3ea20592f8b9374e6d7b997830f47e21b230ede535a6a23b05'},\n",
       "  {'path': \"m/44'/0'/0'/0/9\",\n",
       "   'address': '14fap7pfdvAMTSYrkL64UJMx2TM4JU3DNJ',\n",
       "   'privkey': 'KxUAtMkMJfqrgRwQbjgFzGibwuDqCc3rEftie14g794oxL4QfyiQ',\n",
       "   'pubkey': '037445ee920650d25f02a5b01d21380248c11594b59f2dbbdd07c215306bfa545b'}],\n",
       " 'btc-test': [{'path': \"m/44'/0'/0'/0/0\",\n",
       "   'address': '15Ji2eBZxbjw7kpeU7A2KXRs2k6wHbaESS',\n",
       "   'privkey': 'KzfiLVcitrrvW7jUcwxKbEHSjsXDKq47X5w3r7uh8DJTThmjZD3R',\n",
       "   'pubkey': '02fecd1c9636ba4663df6d72b2c3959bee27530807af098173938c608e3c34cd18'},\n",
       "  {'path': \"m/44'/0'/0'/0/1\",\n",
       "   'address': '1BVCTgqVXuVUugbJVYi2SVAn1WivewzPT1',\n",
       "   'privkey': 'KxJrcUcg9MyeGmJF8M3QzQ1d5BwzJxj5ErqwbJ4EkapQBzx9RZtx',\n",
       "   'pubkey': '029ff90cfd29575b78928a39a22ba490236c26044d80584748a5e88ebea81a7c9f'},\n",
       "  {'path': \"m/44'/0'/0'/0/2\",\n",
       "   'address': '1HAWgDGTxgd44gb97Hw4KGxuCmnzTPRU4A',\n",
       "   'privkey': 'L4VhtgSRBAQ3zWTd72H5F8MqW1R1E8bTJq3aAxVqzQBrAS5nWnx4',\n",
       "   'pubkey': '02fac020fed67ceaaa4f8e138a48a2b77334ec7db239f3ecd6584cff1d529938a5'},\n",
       "  {'path': \"m/44'/0'/0'/0/3\",\n",
       "   'address': '13HZsdcLSeF8bsLfp8ZU5MeeKyHd7qrLE1',\n",
       "   'privkey': 'L3edFknWVyxJZbpZ3hMmAQ2jFNKJ8pS4AKTDVGCDKpWBNXw9LumQ',\n",
       "   'pubkey': '022f51845cf80a5c71a2c695f9457c838a5a442253ebca5ce168ab0acfeffa9224'},\n",
       "  {'path': \"m/44'/0'/0'/0/4\",\n",
       "   'address': '1DWH882tEuHzj1zkXypQFDfmWzYQPLDQYb',\n",
       "   'privkey': 'KyFvkXuuJBiGUXsUx4cEWwH3ijg8LKiRgFVqqZoEGNz5tzfPLSq1',\n",
       "   'pubkey': '0312be9e47aedc60dd4707f3d9f9cea400af956f7d3adfd9acdac35115aece0d63'},\n",
       "  {'path': \"m/44'/0'/0'/0/5\",\n",
       "   'address': '1LV6Em5HhLSXns2MbBcMjnDJUqG4WCu8gL',\n",
       "   'privkey': 'L4Sr3U8X3F3yR7URJQPyWuBj42ZWePTbNQgcogDM7m3ypsnc16BW',\n",
       "   'pubkey': '033a448588ce8333bb0c9072c3e3e1c5a51d71368f8d4908e18e51f5bfaf71535f'},\n",
       "  {'path': \"m/44'/0'/0'/0/6\",\n",
       "   'address': '14tGEQ1zqmDHrj7MoLC4NEYeKbjTR34hhw',\n",
       "   'privkey': 'L2LrApKYzKgCvKPHU2KvzPjtCsnGuQMEr5Pwr5ffSRXMJ6auRdo8',\n",
       "   'pubkey': '03d4a29c70adebd60ff4803c990bc0609d1dad329c16ec2a1c9a0de28725b307d0'},\n",
       "  {'path': \"m/44'/0'/0'/0/7\",\n",
       "   'address': '1GVGcpHkt23k3bwsTi78kr3UE1goQdvXYU',\n",
       "   'privkey': 'KwhboT9vvrf1m1jd73sbEjymwsC7YKtsNMaHRGZ6BbE1BLt22rb7',\n",
       "   'pubkey': '0289f6ba6f90868498182855a31e65f70f5d65c8cf58b5f70c46886c5593ca5589'},\n",
       "  {'path': \"m/44'/0'/0'/0/8\",\n",
       "   'address': '19F1TXpNnqybBwavZyhQaqXsqWJ9TC1Fvt',\n",
       "   'privkey': 'KwTcbbMDiZkLBSCuueizRmXxcaYAZZ5iex5eXj8KDTJEXDEp6WoN',\n",
       "   'pubkey': '03098310069f8cbf3ea20592f8b9374e6d7b997830f47e21b230ede535a6a23b05'},\n",
       "  {'path': \"m/44'/0'/0'/0/9\",\n",
       "   'address': '14fap7pfdvAMTSYrkL64UJMx2TM4JU3DNJ',\n",
       "   'privkey': 'KxUAtMkMJfqrgRwQbjgFzGibwuDqCc3rEftie14g794oxL4QfyiQ',\n",
       "   'pubkey': '037445ee920650d25f02a5b01d21380248c11594b59f2dbbdd07c215306bfa545b'}]}"
      ]
     },
     "execution_count": 6,
     "metadata": {},
     "output_type": "execute_result"
    }
   ],
   "source": [
    "coins"
   ]
  },
  {
   "cell_type": "code",
   "execution_count": 7,
   "id": "4043b394-077c-4291-bc65-e4f2a0cff832",
   "metadata": {},
   "outputs": [],
   "source": [
    "# Create a function called `priv_key_to_account` that converts privkey strings to account objects.\n",
    "def priv_key_to_account(coin, priv_key):\n",
    "    if coin == ETH:\n",
    "        return Account.privateKeyToAccount(priv_key)\n",
    "    elif coin == BTCTEST:\n",
    "        return PrivateKeyTestnet(priv_key)\n",
    "    \n"
   ]
  },
  {
   "cell_type": "code",
   "execution_count": 8,
   "id": "c3aa0fa4-2b88-44d6-8a3d-784722471a71",
   "metadata": {},
   "outputs": [
    {
     "data": {
      "text/plain": [
       "<PrivateKeyTestnet: mjpfKhGYmdBBtsJGBg8Q9SeBtjheGKHhFn>"
      ]
     },
     "execution_count": 8,
     "metadata": {},
     "output_type": "execute_result"
    }
   ],
   "source": [
    "priv_key_to_account(BTCTEST, coins[BTCTEST][0]['privkey'])"
   ]
  },
  {
   "cell_type": "code",
   "execution_count": 9,
   "id": "23b66988-ba3e-4ea5-9951-77715e0e11b8",
   "metadata": {},
   "outputs": [
    {
     "data": {
      "text/plain": [
       "<PrivateKeyTestnet: mr19kjvULvvjgo4vD7gQGQP6sWKdcvJPRn>"
      ]
     },
     "execution_count": 9,
     "metadata": {},
     "output_type": "execute_result"
    }
   ],
   "source": [
    "priv_key_to_account(BTCTEST, coins[BTCTEST][1]['privkey'])"
   ]
  },
  {
   "cell_type": "code",
   "execution_count": 10,
   "id": "15943a78-4c4f-4236-85d5-e3f4cf4b0ccc",
   "metadata": {},
   "outputs": [],
   "source": [
    "# Create a function called `create_tx` that creates an unsigned transaction appropriate metadata.\n",
    "def create_tx(coin, account, to, amount):\n",
    "    if coin == ETH:\n",
    "        gasEstimate = w3.eth.estimateGas(\n",
    "            {\"from\": account.address, \"to\": to, \"value\": amount}\n",
    "        )\n",
    "        return {\n",
    "            \"from\": account.address,\n",
    "            \"to\": to,\n",
    "            \"value\": amount,\n",
    "            \"gasPrice\": w3.eth.gasPrice,\n",
    "            \"gas\": gasEstimate,\n",
    "            \"nonce\": w3.eth.getTransactionCount(account.address),\n",
    "            \"chainID\": web3.eth.chainId\n",
    "        }\n",
    "    elif coin == BTCTEST:\n",
    "        return PrivateKeyTestnet.prepare_transaction(account.address, [(to, amount, BTC)])"
   ]
  },
  {
   "cell_type": "code",
   "execution_count": 11,
   "id": "e06f007a-8937-49a1-bb5b-31ab6be633dd",
   "metadata": {},
   "outputs": [],
   "source": [
    "# Create a function called `send_tx` that calls `create_tx`, signs and sends the transaction.\n",
    "def send_tx(coin, account, to, amount):\n",
    "    tx = create_tx(coin, account, to, amount)\n",
    "    signed_tx = account.sign_transaction(tx)\n",
    "    if coin == ETH: \n",
    "        return w3.eth.sendRawTransaction(signed.rawTransaction)\n",
    "    elif coin == BTCTEST: \n",
    "        return NetworkAPI.broadcast_tx_testnet(signed_tx)"
   ]
  },
  {
   "cell_type": "code",
   "execution_count": 12,
   "id": "bb23e0c7-d367-48e8-b4f1-94b4bf9d716a",
   "metadata": {},
   "outputs": [
    {
     "ename": "ValueError",
     "evalue": "Transactions must have at least one unspent.",
     "output_type": "error",
     "traceback": [
      "\u001b[1;31m---------------------------------------------------------------------------\u001b[0m",
      "\u001b[1;31mValueError\u001b[0m                                Traceback (most recent call last)",
      "\u001b[1;32m<ipython-input-12-a6e3ace54d1d>\u001b[0m in \u001b[0;36m<module>\u001b[1;34m\u001b[0m\n\u001b[1;32m----> 1\u001b[1;33m \u001b[0msend_tx\u001b[0m\u001b[1;33m(\u001b[0m\u001b[0mBTCTEST\u001b[0m\u001b[1;33m,\u001b[0m \u001b[0mpriv_key_to_account\u001b[0m\u001b[1;33m(\u001b[0m\u001b[0mBTCTEST\u001b[0m\u001b[1;33m,\u001b[0m \u001b[0mcoins\u001b[0m\u001b[1;33m[\u001b[0m\u001b[0mBTCTEST\u001b[0m\u001b[1;33m]\u001b[0m\u001b[1;33m[\u001b[0m\u001b[1;36m0\u001b[0m\u001b[1;33m]\u001b[0m\u001b[1;33m[\u001b[0m\u001b[1;34m'privkey'\u001b[0m\u001b[1;33m]\u001b[0m\u001b[1;33m)\u001b[0m\u001b[1;33m,\u001b[0m \u001b[0mpriv_key_to_account\u001b[0m\u001b[1;33m(\u001b[0m\u001b[0mBTCTEST\u001b[0m\u001b[1;33m,\u001b[0m \u001b[0mcoins\u001b[0m\u001b[1;33m[\u001b[0m\u001b[0mBTCTEST\u001b[0m\u001b[1;33m]\u001b[0m\u001b[1;33m[\u001b[0m\u001b[1;36m1\u001b[0m\u001b[1;33m]\u001b[0m\u001b[1;33m[\u001b[0m\u001b[1;34m'privkey'\u001b[0m\u001b[1;33m]\u001b[0m\u001b[1;33m)\u001b[0m\u001b[1;33m,\u001b[0m \u001b[1;36m1\u001b[0m\u001b[1;33m)\u001b[0m\u001b[1;33m\u001b[0m\u001b[1;33m\u001b[0m\u001b[0m\n\u001b[0m",
      "\u001b[1;32m<ipython-input-11-4401aa0881b3>\u001b[0m in \u001b[0;36msend_tx\u001b[1;34m(coin, account, to, amount)\u001b[0m\n\u001b[0;32m      1\u001b[0m \u001b[1;31m# Create a function called `send_tx` that calls `create_tx`, signs and sends the transaction.\u001b[0m\u001b[1;33m\u001b[0m\u001b[1;33m\u001b[0m\u001b[1;33m\u001b[0m\u001b[0m\n\u001b[0;32m      2\u001b[0m \u001b[1;32mdef\u001b[0m \u001b[0msend_tx\u001b[0m\u001b[1;33m(\u001b[0m\u001b[0mcoin\u001b[0m\u001b[1;33m,\u001b[0m \u001b[0maccount\u001b[0m\u001b[1;33m,\u001b[0m \u001b[0mto\u001b[0m\u001b[1;33m,\u001b[0m \u001b[0mamount\u001b[0m\u001b[1;33m)\u001b[0m\u001b[1;33m:\u001b[0m\u001b[1;33m\u001b[0m\u001b[1;33m\u001b[0m\u001b[0m\n\u001b[1;32m----> 3\u001b[1;33m     \u001b[0mtx\u001b[0m \u001b[1;33m=\u001b[0m \u001b[0mcreate_tx\u001b[0m\u001b[1;33m(\u001b[0m\u001b[0mcoin\u001b[0m\u001b[1;33m,\u001b[0m \u001b[0maccount\u001b[0m\u001b[1;33m,\u001b[0m \u001b[0mto\u001b[0m\u001b[1;33m,\u001b[0m \u001b[0mamount\u001b[0m\u001b[1;33m)\u001b[0m\u001b[1;33m\u001b[0m\u001b[1;33m\u001b[0m\u001b[0m\n\u001b[0m\u001b[0;32m      4\u001b[0m     \u001b[0msigned_tx\u001b[0m \u001b[1;33m=\u001b[0m \u001b[0maccount\u001b[0m\u001b[1;33m.\u001b[0m\u001b[0msign_transaction\u001b[0m\u001b[1;33m(\u001b[0m\u001b[0mtx\u001b[0m\u001b[1;33m)\u001b[0m\u001b[1;33m\u001b[0m\u001b[1;33m\u001b[0m\u001b[0m\n\u001b[0;32m      5\u001b[0m     \u001b[1;32mif\u001b[0m \u001b[0mcoin\u001b[0m \u001b[1;33m==\u001b[0m \u001b[0mETH\u001b[0m\u001b[1;33m:\u001b[0m\u001b[1;33m\u001b[0m\u001b[1;33m\u001b[0m\u001b[0m\n",
      "\u001b[1;32m<ipython-input-10-e1afa4cecc96>\u001b[0m in \u001b[0;36mcreate_tx\u001b[1;34m(coin, account, to, amount)\u001b[0m\n\u001b[0;32m     15\u001b[0m         }\n\u001b[0;32m     16\u001b[0m     \u001b[1;32melif\u001b[0m \u001b[0mcoin\u001b[0m \u001b[1;33m==\u001b[0m \u001b[0mBTCTEST\u001b[0m\u001b[1;33m:\u001b[0m\u001b[1;33m\u001b[0m\u001b[1;33m\u001b[0m\u001b[0m\n\u001b[1;32m---> 17\u001b[1;33m         \u001b[1;32mreturn\u001b[0m \u001b[0mPrivateKeyTestnet\u001b[0m\u001b[1;33m.\u001b[0m\u001b[0mprepare_transaction\u001b[0m\u001b[1;33m(\u001b[0m\u001b[0maccount\u001b[0m\u001b[1;33m.\u001b[0m\u001b[0maddress\u001b[0m\u001b[1;33m,\u001b[0m \u001b[1;33m[\u001b[0m\u001b[1;33m(\u001b[0m\u001b[0mto\u001b[0m\u001b[1;33m,\u001b[0m \u001b[0mamount\u001b[0m\u001b[1;33m,\u001b[0m \u001b[0mBTC\u001b[0m\u001b[1;33m)\u001b[0m\u001b[1;33m]\u001b[0m\u001b[1;33m)\u001b[0m\u001b[1;33m\u001b[0m\u001b[1;33m\u001b[0m\u001b[0m\n\u001b[0m",
      "\u001b[1;32m~\\anaconda3\\envs\\ethereum\\lib\\site-packages\\bit\\wallet.py\u001b[0m in \u001b[0;36mprepare_transaction\u001b[1;34m(cls, address, outputs, compressed, fee, absolute_fee, leftover, combine, message, unspents, message_is_hex, replace_by_fee)\u001b[0m\n\u001b[0;32m    850\u001b[0m             \u001b[0mversion\u001b[0m\u001b[1;33m=\u001b[0m\u001b[1;34m'test'\u001b[0m\u001b[1;33m,\u001b[0m\u001b[1;33m\u001b[0m\u001b[1;33m\u001b[0m\u001b[0m\n\u001b[0;32m    851\u001b[0m             \u001b[0mmessage_is_hex\u001b[0m\u001b[1;33m=\u001b[0m\u001b[0mmessage_is_hex\u001b[0m\u001b[1;33m,\u001b[0m\u001b[1;33m\u001b[0m\u001b[1;33m\u001b[0m\u001b[0m\n\u001b[1;32m--> 852\u001b[1;33m             \u001b[0mreplace_by_fee\u001b[0m\u001b[1;33m=\u001b[0m\u001b[0mreplace_by_fee\u001b[0m\u001b[1;33m\u001b[0m\u001b[1;33m\u001b[0m\u001b[0m\n\u001b[0m\u001b[0;32m    853\u001b[0m         )\n\u001b[0;32m    854\u001b[0m \u001b[1;33m\u001b[0m\u001b[0m\n",
      "\u001b[1;32m~\\anaconda3\\envs\\ethereum\\lib\\site-packages\\bit\\transaction.py\u001b[0m in \u001b[0;36msanitize_tx_data\u001b[1;34m(unspents, outputs, fee, leftover, combine, message, compressed, absolute_fee, min_change, version, message_is_hex, replace_by_fee)\u001b[0m\n\u001b[0;32m    403\u001b[0m \u001b[1;33m\u001b[0m\u001b[0m\n\u001b[0;32m    404\u001b[0m     \u001b[1;32mif\u001b[0m \u001b[1;32mnot\u001b[0m \u001b[0munspents\u001b[0m\u001b[1;33m:\u001b[0m\u001b[1;33m\u001b[0m\u001b[1;33m\u001b[0m\u001b[0m\n\u001b[1;32m--> 405\u001b[1;33m         \u001b[1;32mraise\u001b[0m \u001b[0mValueError\u001b[0m\u001b[1;33m(\u001b[0m\u001b[1;34m'Transactions must have at least one unspent.'\u001b[0m\u001b[1;33m)\u001b[0m\u001b[1;33m\u001b[0m\u001b[1;33m\u001b[0m\u001b[0m\n\u001b[0m\u001b[0;32m    406\u001b[0m \u001b[1;33m\u001b[0m\u001b[0m\n\u001b[0;32m    407\u001b[0m     \u001b[1;31m# Temporary storage so all outputs precede messages.\u001b[0m\u001b[1;33m\u001b[0m\u001b[1;33m\u001b[0m\u001b[1;33m\u001b[0m\u001b[0m\n",
      "\u001b[1;31mValueError\u001b[0m: Transactions must have at least one unspent."
     ]
    }
   ],
   "source": [
    "send_tx(BTCTEST, priv_key_to_account(BTCTEST, coins[BTCTEST][0]['privkey']), priv_key_to_account(BTCTEST, coins[BTCTEST][1]['privkey']), 1)"
   ]
  },
  {
   "cell_type": "code",
   "execution_count": null,
   "id": "3c3d011b-558f-416a-b922-894d0fec2e14",
   "metadata": {},
   "outputs": [],
   "source": []
  },
  {
   "cell_type": "code",
   "execution_count": null,
   "id": "2c8d2d7f-05be-493a-bb09-3207f2672c46",
   "metadata": {},
   "outputs": [],
   "source": []
  },
  {
   "cell_type": "code",
   "execution_count": null,
   "id": "edc1a570-c7a0-49a9-9491-0ca3ac467035",
   "metadata": {},
   "outputs": [],
   "source": []
  },
  {
   "cell_type": "code",
   "execution_count": null,
   "id": "9a165e4c-9f99-4871-9c79-3ed2d37cfd50",
   "metadata": {},
   "outputs": [],
   "source": []
  },
  {
   "cell_type": "code",
   "execution_count": null,
   "id": "0701485f-5f3b-4427-a4a1-b0534e7bd348",
   "metadata": {},
   "outputs": [],
   "source": []
  },
  {
   "cell_type": "code",
   "execution_count": null,
   "id": "405ff2b9-1a19-432b-aa42-cf7ec980076f",
   "metadata": {},
   "outputs": [],
   "source": []
  }
 ],
 "metadata": {
  "kernelspec": {
   "display_name": "Python 3",
   "language": "python",
   "name": "python3"
  },
  "language_info": {
   "codemirror_mode": {
    "name": "ipython",
    "version": 3
   },
   "file_extension": ".py",
   "mimetype": "text/x-python",
   "name": "python",
   "nbconvert_exporter": "python",
   "pygments_lexer": "ipython3",
   "version": "3.7.10"
  }
 },
 "nbformat": 4,
 "nbformat_minor": 5
}
