{
 "cells": [
  {
   "cell_type": "markdown",
   "metadata": {},
   "source": [
    " #  A Whale off the Port(folio)\n",
    " ---\n",
    "\n",
    " In this assignment, you'll get to use what you've learned this week to evaluate the performance among various algorithmic, hedge, and mutual fund portfolios and compare them against the S&P 500 Index."
   ]
  },
  {
   "cell_type": "code",
   "execution_count": 200,
   "metadata": {},
   "outputs": [],
   "source": [
    "# Initial imports\n",
    "import pandas as pd\n",
    "import numpy as np\n",
    "import datetime as dt\n",
    "from pathlib import Path\n",
    "\n",
    "%matplotlib inline"
   ]
  },
  {
   "cell_type": "markdown",
   "metadata": {},
   "source": [
    "# Data Cleaning\n",
    "\n",
    "In this section, you will need to read the CSV files into DataFrames and perform any necessary data cleaning steps. After cleaning, combine all DataFrames into a single DataFrame.\n",
    "\n",
    "Files:\n",
    "\n",
    "* `whale_returns.csv`: Contains returns of some famous \"whale\" investors' portfolios.\n",
    "\n",
    "* `algo_returns.csv`: Contains returns from the in-house trading algorithms from Harold's company.\n",
    "\n",
    "* `sp500_history.csv`: Contains historical closing prices of the S&P 500 Index."
   ]
  },
  {
   "cell_type": "markdown",
   "metadata": {},
   "source": [
    "## Whale Returns\n",
    "\n",
    "Read the Whale Portfolio daily returns and clean the data"
   ]
  },
  {
   "cell_type": "code",
   "execution_count": 201,
   "metadata": {},
   "outputs": [
    {
     "data": {
      "text/html": [
       "<div>\n",
       "<style scoped>\n",
       "    .dataframe tbody tr th:only-of-type {\n",
       "        vertical-align: middle;\n",
       "    }\n",
       "\n",
       "    .dataframe tbody tr th {\n",
       "        vertical-align: top;\n",
       "    }\n",
       "\n",
       "    .dataframe thead th {\n",
       "        text-align: right;\n",
       "    }\n",
       "</style>\n",
       "<table border=\"1\" class=\"dataframe\">\n",
       "  <thead>\n",
       "    <tr style=\"text-align: right;\">\n",
       "      <th></th>\n",
       "      <th>SOROS FUND MANAGEMENT LLC</th>\n",
       "      <th>PAULSON &amp; CO.INC.</th>\n",
       "      <th>TIGER GLOBAL MANAGEMENT LLC</th>\n",
       "      <th>BERKSHIRE HATHAWAY INC</th>\n",
       "    </tr>\n",
       "    <tr>\n",
       "      <th>Date</th>\n",
       "      <th></th>\n",
       "      <th></th>\n",
       "      <th></th>\n",
       "      <th></th>\n",
       "    </tr>\n",
       "  </thead>\n",
       "  <tbody>\n",
       "    <tr>\n",
       "      <th>2015-03-02</th>\n",
       "      <td>NaN</td>\n",
       "      <td>NaN</td>\n",
       "      <td>NaN</td>\n",
       "      <td>NaN</td>\n",
       "    </tr>\n",
       "    <tr>\n",
       "      <th>2015-03-03</th>\n",
       "      <td>-0.001266</td>\n",
       "      <td>-0.004981</td>\n",
       "      <td>-0.000496</td>\n",
       "      <td>-0.006569</td>\n",
       "    </tr>\n",
       "    <tr>\n",
       "      <th>2015-03-04</th>\n",
       "      <td>0.002230</td>\n",
       "      <td>0.003241</td>\n",
       "      <td>-0.002534</td>\n",
       "      <td>0.004213</td>\n",
       "    </tr>\n",
       "    <tr>\n",
       "      <th>2015-03-05</th>\n",
       "      <td>0.004016</td>\n",
       "      <td>0.004076</td>\n",
       "      <td>0.002355</td>\n",
       "      <td>0.006726</td>\n",
       "    </tr>\n",
       "    <tr>\n",
       "      <th>2015-03-06</th>\n",
       "      <td>-0.007905</td>\n",
       "      <td>-0.003574</td>\n",
       "      <td>-0.008481</td>\n",
       "      <td>-0.013098</td>\n",
       "    </tr>\n",
       "  </tbody>\n",
       "</table>\n",
       "</div>"
      ],
      "text/plain": [
       "            SOROS FUND MANAGEMENT LLC  PAULSON & CO.INC.   \\\n",
       "Date                                                        \n",
       "2015-03-02                        NaN                 NaN   \n",
       "2015-03-03                  -0.001266           -0.004981   \n",
       "2015-03-04                   0.002230            0.003241   \n",
       "2015-03-05                   0.004016            0.004076   \n",
       "2015-03-06                  -0.007905           -0.003574   \n",
       "\n",
       "            TIGER GLOBAL MANAGEMENT LLC  BERKSHIRE HATHAWAY INC  \n",
       "Date                                                             \n",
       "2015-03-02                          NaN                     NaN  \n",
       "2015-03-03                    -0.000496               -0.006569  \n",
       "2015-03-04                    -0.002534                0.004213  \n",
       "2015-03-05                     0.002355                0.006726  \n",
       "2015-03-06                    -0.008481               -0.013098  "
      ]
     },
     "execution_count": 201,
     "metadata": {},
     "output_type": "execute_result"
    }
   ],
   "source": [
    "# Reading whale returns\n",
    "whale_data = Path(\"Resources/whale_returns.csv\")\n",
    "whale = pd.read_csv(whale_data, index_col=\"Date\", infer_datetime_format=True, parse_dates=True)\n",
    "whale.sort_index(inplace=True)\n",
    "whale.head()"
   ]
  },
  {
   "cell_type": "code",
   "execution_count": 202,
   "metadata": {},
   "outputs": [
    {
     "data": {
      "text/plain": [
       "SOROS FUND MANAGEMENT LLC      1\n",
       "PAULSON & CO.INC.              1\n",
       "TIGER GLOBAL MANAGEMENT LLC    1\n",
       "BERKSHIRE HATHAWAY INC         1\n",
       "dtype: int64"
      ]
     },
     "execution_count": 202,
     "metadata": {},
     "output_type": "execute_result"
    }
   ],
   "source": [
    "# Count nulls\n",
    "whale.isnull().sum()"
   ]
  },
  {
   "cell_type": "code",
   "execution_count": 203,
   "metadata": {},
   "outputs": [
    {
     "data": {
      "text/plain": [
       "SOROS FUND MANAGEMENT LLC      0\n",
       "PAULSON & CO.INC.              0\n",
       "TIGER GLOBAL MANAGEMENT LLC    0\n",
       "BERKSHIRE HATHAWAY INC         0\n",
       "dtype: int64"
      ]
     },
     "execution_count": 203,
     "metadata": {},
     "output_type": "execute_result"
    }
   ],
   "source": [
    "# Drop nulls\n",
    "whale = whale.dropna()\n",
    "whale.isnull().sum()\n"
   ]
  },
  {
   "cell_type": "markdown",
   "metadata": {},
   "source": [
    "## Algorithmic Daily Returns\n",
    "\n",
    "Read the algorithmic daily returns and clean the data"
   ]
  },
  {
   "cell_type": "code",
   "execution_count": 204,
   "metadata": {},
   "outputs": [
    {
     "data": {
      "text/html": [
       "<div>\n",
       "<style scoped>\n",
       "    .dataframe tbody tr th:only-of-type {\n",
       "        vertical-align: middle;\n",
       "    }\n",
       "\n",
       "    .dataframe tbody tr th {\n",
       "        vertical-align: top;\n",
       "    }\n",
       "\n",
       "    .dataframe thead th {\n",
       "        text-align: right;\n",
       "    }\n",
       "</style>\n",
       "<table border=\"1\" class=\"dataframe\">\n",
       "  <thead>\n",
       "    <tr style=\"text-align: right;\">\n",
       "      <th></th>\n",
       "      <th>Algo 1</th>\n",
       "      <th>Algo 2</th>\n",
       "    </tr>\n",
       "    <tr>\n",
       "      <th>Date</th>\n",
       "      <th></th>\n",
       "      <th></th>\n",
       "    </tr>\n",
       "  </thead>\n",
       "  <tbody>\n",
       "    <tr>\n",
       "      <th>2014-05-28</th>\n",
       "      <td>0.001745</td>\n",
       "      <td>NaN</td>\n",
       "    </tr>\n",
       "    <tr>\n",
       "      <th>2014-05-29</th>\n",
       "      <td>0.003978</td>\n",
       "      <td>NaN</td>\n",
       "    </tr>\n",
       "    <tr>\n",
       "      <th>2014-05-30</th>\n",
       "      <td>0.004464</td>\n",
       "      <td>NaN</td>\n",
       "    </tr>\n",
       "    <tr>\n",
       "      <th>2014-06-02</th>\n",
       "      <td>0.005692</td>\n",
       "      <td>NaN</td>\n",
       "    </tr>\n",
       "    <tr>\n",
       "      <th>2014-06-03</th>\n",
       "      <td>0.005292</td>\n",
       "      <td>NaN</td>\n",
       "    </tr>\n",
       "  </tbody>\n",
       "</table>\n",
       "</div>"
      ],
      "text/plain": [
       "              Algo 1  Algo 2\n",
       "Date                        \n",
       "2014-05-28  0.001745     NaN\n",
       "2014-05-29  0.003978     NaN\n",
       "2014-05-30  0.004464     NaN\n",
       "2014-06-02  0.005692     NaN\n",
       "2014-06-03  0.005292     NaN"
      ]
     },
     "execution_count": 204,
     "metadata": {},
     "output_type": "execute_result"
    }
   ],
   "source": [
    "# Reading algorithmic returns\n",
    "algo_data = Path(\"Resources/algo_returns.csv\")\n",
    "algo = pd.read_csv(algo_data, index_col=\"Date\", infer_datetime_format=True, parse_dates=True)\n",
    "algo.sort_index(inplace=True)\n",
    "algo.head()"
   ]
  },
  {
   "cell_type": "code",
   "execution_count": 205,
   "metadata": {},
   "outputs": [
    {
     "data": {
      "text/plain": [
       "Algo 1    0\n",
       "Algo 2    6\n",
       "dtype: int64"
      ]
     },
     "execution_count": 205,
     "metadata": {},
     "output_type": "execute_result"
    }
   ],
   "source": [
    "# Count nulls\n",
    "algo.isnull().sum()"
   ]
  },
  {
   "cell_type": "code",
   "execution_count": 206,
   "metadata": {},
   "outputs": [
    {
     "data": {
      "text/plain": [
       "Algo 1    0\n",
       "Algo 2    0\n",
       "dtype: int64"
      ]
     },
     "execution_count": 206,
     "metadata": {},
     "output_type": "execute_result"
    }
   ],
   "source": [
    "# Drop nulls\n",
    "algo = algo.dropna()\n",
    "algo.isnull().sum()"
   ]
  },
  {
   "cell_type": "markdown",
   "metadata": {},
   "source": [
    "## S&P 500 Returns\n",
    "\n",
    "Read the S&P 500 historic closing prices and create a new daily returns DataFrame from the data. "
   ]
  },
  {
   "cell_type": "code",
   "execution_count": 207,
   "metadata": {},
   "outputs": [
    {
     "data": {
      "text/html": [
       "<div>\n",
       "<style scoped>\n",
       "    .dataframe tbody tr th:only-of-type {\n",
       "        vertical-align: middle;\n",
       "    }\n",
       "\n",
       "    .dataframe tbody tr th {\n",
       "        vertical-align: top;\n",
       "    }\n",
       "\n",
       "    .dataframe thead th {\n",
       "        text-align: right;\n",
       "    }\n",
       "</style>\n",
       "<table border=\"1\" class=\"dataframe\">\n",
       "  <thead>\n",
       "    <tr style=\"text-align: right;\">\n",
       "      <th></th>\n",
       "      <th>Close</th>\n",
       "    </tr>\n",
       "    <tr>\n",
       "      <th>Date</th>\n",
       "      <th></th>\n",
       "    </tr>\n",
       "  </thead>\n",
       "  <tbody>\n",
       "    <tr>\n",
       "      <th>2012-10-01</th>\n",
       "      <td>$1444.49</td>\n",
       "    </tr>\n",
       "    <tr>\n",
       "      <th>2012-10-02</th>\n",
       "      <td>$1445.75</td>\n",
       "    </tr>\n",
       "    <tr>\n",
       "      <th>2012-10-03</th>\n",
       "      <td>$1450.99</td>\n",
       "    </tr>\n",
       "    <tr>\n",
       "      <th>2012-10-04</th>\n",
       "      <td>$1461.40</td>\n",
       "    </tr>\n",
       "    <tr>\n",
       "      <th>2012-10-05</th>\n",
       "      <td>$1460.93</td>\n",
       "    </tr>\n",
       "  </tbody>\n",
       "</table>\n",
       "</div>"
      ],
      "text/plain": [
       "               Close\n",
       "Date                \n",
       "2012-10-01  $1444.49\n",
       "2012-10-02  $1445.75\n",
       "2012-10-03  $1450.99\n",
       "2012-10-04  $1461.40\n",
       "2012-10-05  $1460.93"
      ]
     },
     "execution_count": 207,
     "metadata": {},
     "output_type": "execute_result"
    }
   ],
   "source": [
    "# Reading S&P 500 Closing Prices\n",
    "sp500_data = Path(\"Resources/sp500_history.csv\")\n",
    "sp500 = pd.read_csv(sp500_data, index_col=\"Date\", infer_datetime_format=True, parse_dates=True)\n",
    "sp500.sort_index(inplace=True)\n",
    "sp500.head()"
   ]
  },
  {
   "cell_type": "code",
   "execution_count": 208,
   "metadata": {},
   "outputs": [
    {
     "data": {
      "text/plain": [
       "Close    object\n",
       "dtype: object"
      ]
     },
     "execution_count": 208,
     "metadata": {},
     "output_type": "execute_result"
    }
   ],
   "source": [
    "# Check Data Types\n",
    "sp500.dtypes"
   ]
  },
  {
   "cell_type": "code",
   "execution_count": 209,
   "metadata": {},
   "outputs": [
    {
     "name": "stderr",
     "output_type": "stream",
     "text": [
      "<ipython-input-209-77fd35237a03>:2: FutureWarning: The default value of regex will change from True to False in a future version. In addition, single character regular expressions will*not* be treated as literal strings when regex=True.\n",
      "  sp500[\"Close\"] = sp500[\"Close\"].str.replace(\"$\", \"\")\n"
     ]
    },
    {
     "data": {
      "text/plain": [
       "Date\n",
       "2012-10-01    1444.49\n",
       "2012-10-02    1445.75\n",
       "2012-10-03    1450.99\n",
       "2012-10-04    1461.40\n",
       "2012-10-05    1460.93\n",
       "               ...   \n",
       "2019-04-16    2907.06\n",
       "2019-04-17    2900.45\n",
       "2019-04-18    2905.03\n",
       "2019-04-22    2907.97\n",
       "2019-04-23    2933.68\n",
       "Name: Close, Length: 1649, dtype: float64"
      ]
     },
     "execution_count": 209,
     "metadata": {},
     "output_type": "execute_result"
    }
   ],
   "source": [
    "# Fix Data Types\n",
    "sp500[\"Close\"] = sp500[\"Close\"].str.replace(\"$\", \"\")\n",
    "sp500[\"Close\"] = sp500[\"Close\"].astype(\"float\")\n",
    "sp500[\"Close\"]"
   ]
  },
  {
   "cell_type": "code",
   "execution_count": 210,
   "metadata": {},
   "outputs": [
    {
     "data": {
      "text/html": [
       "<div>\n",
       "<style scoped>\n",
       "    .dataframe tbody tr th:only-of-type {\n",
       "        vertical-align: middle;\n",
       "    }\n",
       "\n",
       "    .dataframe tbody tr th {\n",
       "        vertical-align: top;\n",
       "    }\n",
       "\n",
       "    .dataframe thead th {\n",
       "        text-align: right;\n",
       "    }\n",
       "</style>\n",
       "<table border=\"1\" class=\"dataframe\">\n",
       "  <thead>\n",
       "    <tr style=\"text-align: right;\">\n",
       "      <th></th>\n",
       "      <th>Close</th>\n",
       "    </tr>\n",
       "    <tr>\n",
       "      <th>Date</th>\n",
       "      <th></th>\n",
       "    </tr>\n",
       "  </thead>\n",
       "  <tbody>\n",
       "    <tr>\n",
       "      <th>2012-10-01</th>\n",
       "      <td>NaN</td>\n",
       "    </tr>\n",
       "    <tr>\n",
       "      <th>2012-10-02</th>\n",
       "      <td>0.000872</td>\n",
       "    </tr>\n",
       "    <tr>\n",
       "      <th>2012-10-03</th>\n",
       "      <td>0.003624</td>\n",
       "    </tr>\n",
       "    <tr>\n",
       "      <th>2012-10-04</th>\n",
       "      <td>0.007174</td>\n",
       "    </tr>\n",
       "    <tr>\n",
       "      <th>2012-10-05</th>\n",
       "      <td>-0.000322</td>\n",
       "    </tr>\n",
       "  </tbody>\n",
       "</table>\n",
       "</div>"
      ],
      "text/plain": [
       "               Close\n",
       "Date                \n",
       "2012-10-01       NaN\n",
       "2012-10-02  0.000872\n",
       "2012-10-03  0.003624\n",
       "2012-10-04  0.007174\n",
       "2012-10-05 -0.000322"
      ]
     },
     "execution_count": 210,
     "metadata": {},
     "output_type": "execute_result"
    }
   ],
   "source": [
    "# Calculate Daily Returns\n",
    "sp500_returns = sp500.pct_change()\n",
    "sp500_returns.head()"
   ]
  },
  {
   "cell_type": "code",
   "execution_count": 211,
   "metadata": {},
   "outputs": [
    {
     "data": {
      "text/plain": [
       "Close    0\n",
       "dtype: int64"
      ]
     },
     "execution_count": 211,
     "metadata": {},
     "output_type": "execute_result"
    }
   ],
   "source": [
    "# Drop nulls\n",
    "sp500_returns = sp500_returns.dropna()\n",
    "sp500_returns.isnull().sum()\n"
   ]
  },
  {
   "cell_type": "code",
   "execution_count": 212,
   "metadata": {},
   "outputs": [
    {
     "data": {
      "text/html": [
       "<div>\n",
       "<style scoped>\n",
       "    .dataframe tbody tr th:only-of-type {\n",
       "        vertical-align: middle;\n",
       "    }\n",
       "\n",
       "    .dataframe tbody tr th {\n",
       "        vertical-align: top;\n",
       "    }\n",
       "\n",
       "    .dataframe thead th {\n",
       "        text-align: right;\n",
       "    }\n",
       "</style>\n",
       "<table border=\"1\" class=\"dataframe\">\n",
       "  <thead>\n",
       "    <tr style=\"text-align: right;\">\n",
       "      <th></th>\n",
       "      <th>S&amp;P 500</th>\n",
       "    </tr>\n",
       "    <tr>\n",
       "      <th>Date</th>\n",
       "      <th></th>\n",
       "    </tr>\n",
       "  </thead>\n",
       "  <tbody>\n",
       "    <tr>\n",
       "      <th>2012-10-02</th>\n",
       "      <td>0.000872</td>\n",
       "    </tr>\n",
       "    <tr>\n",
       "      <th>2012-10-03</th>\n",
       "      <td>0.003624</td>\n",
       "    </tr>\n",
       "    <tr>\n",
       "      <th>2012-10-04</th>\n",
       "      <td>0.007174</td>\n",
       "    </tr>\n",
       "    <tr>\n",
       "      <th>2012-10-05</th>\n",
       "      <td>-0.000322</td>\n",
       "    </tr>\n",
       "    <tr>\n",
       "      <th>2012-10-08</th>\n",
       "      <td>-0.003457</td>\n",
       "    </tr>\n",
       "  </tbody>\n",
       "</table>\n",
       "</div>"
      ],
      "text/plain": [
       "             S&P 500\n",
       "Date                \n",
       "2012-10-02  0.000872\n",
       "2012-10-03  0.003624\n",
       "2012-10-04  0.007174\n",
       "2012-10-05 -0.000322\n",
       "2012-10-08 -0.003457"
      ]
     },
     "execution_count": 212,
     "metadata": {},
     "output_type": "execute_result"
    }
   ],
   "source": [
    "# Rename `Close` Column to be specific to this portfolio.\n",
    "sp500_returns = sp500_returns.rename(columns={\n",
    "    \"Close\": \"S&P 500\"\n",
    "})\n",
    "\n",
    "sp500_returns.head()"
   ]
  },
  {
   "cell_type": "markdown",
   "metadata": {},
   "source": [
    "## Combine Whale, Algorithmic, and S&P 500 Returns"
   ]
  },
  {
   "cell_type": "code",
   "execution_count": 213,
   "metadata": {},
   "outputs": [
    {
     "data": {
      "text/html": [
       "<div>\n",
       "<style scoped>\n",
       "    .dataframe tbody tr th:only-of-type {\n",
       "        vertical-align: middle;\n",
       "    }\n",
       "\n",
       "    .dataframe tbody tr th {\n",
       "        vertical-align: top;\n",
       "    }\n",
       "\n",
       "    .dataframe thead th {\n",
       "        text-align: right;\n",
       "    }\n",
       "</style>\n",
       "<table border=\"1\" class=\"dataframe\">\n",
       "  <thead>\n",
       "    <tr style=\"text-align: right;\">\n",
       "      <th></th>\n",
       "      <th>SOROS FUND MANAGEMENT LLC</th>\n",
       "      <th>PAULSON &amp; CO.INC.</th>\n",
       "      <th>TIGER GLOBAL MANAGEMENT LLC</th>\n",
       "      <th>BERKSHIRE HATHAWAY INC</th>\n",
       "      <th>Algo 1</th>\n",
       "      <th>Algo 2</th>\n",
       "      <th>S&amp;P 500</th>\n",
       "    </tr>\n",
       "    <tr>\n",
       "      <th>Date</th>\n",
       "      <th></th>\n",
       "      <th></th>\n",
       "      <th></th>\n",
       "      <th></th>\n",
       "      <th></th>\n",
       "      <th></th>\n",
       "      <th></th>\n",
       "    </tr>\n",
       "  </thead>\n",
       "  <tbody>\n",
       "    <tr>\n",
       "      <th>2015-03-03</th>\n",
       "      <td>-0.001266</td>\n",
       "      <td>-0.004981</td>\n",
       "      <td>-0.000496</td>\n",
       "      <td>-0.006569</td>\n",
       "      <td>-0.001942</td>\n",
       "      <td>-0.000949</td>\n",
       "      <td>-0.004539</td>\n",
       "    </tr>\n",
       "    <tr>\n",
       "      <th>2015-03-04</th>\n",
       "      <td>0.002230</td>\n",
       "      <td>0.003241</td>\n",
       "      <td>-0.002534</td>\n",
       "      <td>0.004213</td>\n",
       "      <td>-0.008589</td>\n",
       "      <td>0.002416</td>\n",
       "      <td>-0.004389</td>\n",
       "    </tr>\n",
       "    <tr>\n",
       "      <th>2015-03-05</th>\n",
       "      <td>0.004016</td>\n",
       "      <td>0.004076</td>\n",
       "      <td>0.002355</td>\n",
       "      <td>0.006726</td>\n",
       "      <td>-0.000955</td>\n",
       "      <td>0.004323</td>\n",
       "      <td>0.001196</td>\n",
       "    </tr>\n",
       "    <tr>\n",
       "      <th>2015-03-06</th>\n",
       "      <td>-0.007905</td>\n",
       "      <td>-0.003574</td>\n",
       "      <td>-0.008481</td>\n",
       "      <td>-0.013098</td>\n",
       "      <td>-0.004957</td>\n",
       "      <td>-0.011460</td>\n",
       "      <td>-0.014174</td>\n",
       "    </tr>\n",
       "    <tr>\n",
       "      <th>2015-03-09</th>\n",
       "      <td>0.000582</td>\n",
       "      <td>0.004225</td>\n",
       "      <td>0.005843</td>\n",
       "      <td>-0.001652</td>\n",
       "      <td>-0.005447</td>\n",
       "      <td>0.001303</td>\n",
       "      <td>0.003944</td>\n",
       "    </tr>\n",
       "  </tbody>\n",
       "</table>\n",
       "</div>"
      ],
      "text/plain": [
       "            SOROS FUND MANAGEMENT LLC  PAULSON & CO.INC.   \\\n",
       "Date                                                        \n",
       "2015-03-03                  -0.001266           -0.004981   \n",
       "2015-03-04                   0.002230            0.003241   \n",
       "2015-03-05                   0.004016            0.004076   \n",
       "2015-03-06                  -0.007905           -0.003574   \n",
       "2015-03-09                   0.000582            0.004225   \n",
       "\n",
       "            TIGER GLOBAL MANAGEMENT LLC  BERKSHIRE HATHAWAY INC    Algo 1  \\\n",
       "Date                                                                        \n",
       "2015-03-03                    -0.000496               -0.006569 -0.001942   \n",
       "2015-03-04                    -0.002534                0.004213 -0.008589   \n",
       "2015-03-05                     0.002355                0.006726 -0.000955   \n",
       "2015-03-06                    -0.008481               -0.013098 -0.004957   \n",
       "2015-03-09                     0.005843               -0.001652 -0.005447   \n",
       "\n",
       "              Algo 2   S&P 500  \n",
       "Date                            \n",
       "2015-03-03 -0.000949 -0.004539  \n",
       "2015-03-04  0.002416 -0.004389  \n",
       "2015-03-05  0.004323  0.001196  \n",
       "2015-03-06 -0.011460 -0.014174  \n",
       "2015-03-09  0.001303  0.003944  "
      ]
     },
     "execution_count": 213,
     "metadata": {},
     "output_type": "execute_result"
    }
   ],
   "source": [
    "# Join Whale Returns, Algorithmic Returns, and the S&P 500 Returns into a single DataFrame with columns for each portfolio's returns.\n",
    "all_returns = pd.concat([whale, algo, sp500_returns], axis=\"columns\", join=\"inner\")\n",
    "all_returns.head()"
   ]
  },
  {
   "cell_type": "markdown",
   "metadata": {},
   "source": [
    "---"
   ]
  },
  {
   "cell_type": "markdown",
   "metadata": {},
   "source": [
    "# Conduct Quantitative Analysis\n",
    "\n",
    "In this section, you will calculate and visualize performance and risk metrics for the portfolios."
   ]
  },
  {
   "cell_type": "markdown",
   "metadata": {},
   "source": [
    "## Performance Anlysis\n",
    "\n",
    "#### Calculate and Plot the daily returns."
   ]
  },
  {
   "cell_type": "code",
   "execution_count": 214,
   "metadata": {},
   "outputs": [
    {
     "data": {
      "text/plain": [
       "<AxesSubplot:xlabel='Date'>"
      ]
     },
     "execution_count": 214,
     "metadata": {},
     "output_type": "execute_result"
    },
    {
     "data": {
      "image/png": "[encoded data removed]",
      "text/plain": [
       "<Figure size 432x288 with 1 Axes>"
      ]
     },
     "metadata": {
      "needs_background": "light"
     },
     "output_type": "display_data"
    }
   ],
   "source": [
    "# Plot daily returns of all portfolios\n",
    "all_returns.plot()"
   ]
  },
  {
   "cell_type": "markdown",
   "metadata": {},
   "source": [
    "#### Calculate and Plot cumulative returns."
   ]
  },
  {
   "cell_type": "code",
   "execution_count": 215,
   "metadata": {},
   "outputs": [
    {
     "data": {
      "text/plain": [
       "<AxesSubplot:xlabel='Date'>"
      ]
     },
     "execution_count": 215,
     "metadata": {},
     "output_type": "execute_result"
    },
    {
     "data": {
      "image/png": "[encoded data removed]",
      "text/plain": [
       "<Figure size 432x288 with 1 Axes>"
      ]
     },
     "metadata": {
      "needs_background": "light"
     },
     "output_type": "display_data"
    }
   ],
   "source": [
    "# Calculate cumulative returns of all portfolios\n",
    "cumulative_returns = (1+all_returns).cumprod()-1\n",
    "\n",
    "# Plot cumulative returns\n",
    "cumulative_returns.plot()"
   ]
  },
  {
   "cell_type": "markdown",
   "metadata": {},
   "source": [
    "---"
   ]
  },
  {
   "cell_type": "markdown",
   "metadata": {},
   "source": [
    "## Risk Analysis\n",
    "\n",
    "Determine the _risk_ of each portfolio:\n",
    "\n",
    "1. Create a box plot for each portfolio. \n",
    "2. Calculate the standard deviation for all portfolios\n",
    "4. Determine which portfolios are riskier than the S&P 500\n",
    "5. Calculate the Annualized Standard Deviation"
   ]
  },
  {
   "cell_type": "markdown",
   "metadata": {},
   "source": [
    "### Create a box plot for each portfolio\n"
   ]
  },
  {
   "cell_type": "code",
   "execution_count": 216,
   "metadata": {},
   "outputs": [
    {
     "data": {
      "text/plain": [
       "<AxesSubplot:>"
      ]
     },
     "execution_count": 216,
     "metadata": {},
     "output_type": "execute_result"
    },
    {
     "data": {
      "image/png": "[encoded data removed]",
      "text/plain": [
       "<Figure size 432x288 with 1 Axes>"
      ]
     },
     "metadata": {
      "needs_background": "light"
     },
     "output_type": "display_data"
    }
   ],
   "source": [
    "# Box plot to visually show risk\n",
    "all_returns.plot.box()"
   ]
  },
  {
   "cell_type": "markdown",
   "metadata": {},
   "source": [
    "### Calculate Standard Deviations"
   ]
  },
  {
   "cell_type": "code",
   "execution_count": 217,
   "metadata": {},
   "outputs": [
    {
     "data": {
      "text/plain": [
       "SOROS FUND MANAGEMENT LLC      0.007895\n",
       "PAULSON & CO.INC.              0.007023\n",
       "TIGER GLOBAL MANAGEMENT LLC    0.010894\n",
       "BERKSHIRE HATHAWAY INC         0.012919\n",
       "Algo 1                         0.007620\n",
       "dtype: float64"
      ]
     },
     "execution_count": 217,
     "metadata": {},
     "output_type": "execute_result"
    }
   ],
   "source": [
    "# Calculate the daily standard deviations of all portfolios\n",
    "all_returns_std = all_returns.std()\n",
    "all_returns_std.head()"
   ]
  },
  {
   "cell_type": "markdown",
   "metadata": {},
   "source": [
    "### Determine which portfolios are riskier than the S&P 500"
   ]
  },
  {
   "cell_type": "code",
   "execution_count": 218,
   "metadata": {},
   "outputs": [
    {
     "name": "stdout",
     "output_type": "stream",
     "text": [
      "0.008553731597758204\n"
     ]
    },
    {
     "data": {
      "text/plain": [
       "BERKSHIRE HATHAWAY INC         0.012919\n",
       "TIGER GLOBAL MANAGEMENT LLC    0.010894\n",
       "S&P 500                        0.008554\n",
       "Algo 2                         0.008342\n",
       "SOROS FUND MANAGEMENT LLC      0.007895\n",
       "Algo 1                         0.007620\n",
       "PAULSON & CO.INC.              0.007023\n",
       "dtype: float64"
      ]
     },
     "execution_count": 218,
     "metadata": {},
     "output_type": "execute_result"
    }
   ],
   "source": [
    "# Calculate  the daily standard deviation of S&P 500\n",
    "print(all_returns_std[\"S&P 500\"])\n",
    "\n",
    "# Determine which portfolios are riskier than the S&P 500\n",
    "all_returns_std = all_returns_std.sort_values(ascending=False)\n",
    "all_returns_std"
   ]
  },
  {
   "cell_type": "markdown",
   "metadata": {},
   "source": [
    "### Calculate the Annualized Standard Deviation"
   ]
  },
  {
   "cell_type": "code",
   "execution_count": 219,
   "metadata": {},
   "outputs": [
    {
     "data": {
      "text/plain": [
       "BERKSHIRE HATHAWAY INC         0.205077\n",
       "TIGER GLOBAL MANAGEMENT LLC    0.172936\n",
       "S&P 500                        0.135786\n",
       "Algo 2                         0.132430\n",
       "SOROS FUND MANAGEMENT LLC      0.125335\n",
       "Algo 1                         0.120967\n",
       "PAULSON & CO.INC.              0.111488\n",
       "dtype: float64"
      ]
     },
     "execution_count": 219,
     "metadata": {},
     "output_type": "execute_result"
    }
   ],
   "source": [
    "# Calculate the annualized standard deviation (252 trading days)\n",
    "all_annualized_std = all_returns_std * np.sqrt(252)\n",
    "all_annualized_std"
   ]
  },
  {
   "cell_type": "markdown",
   "metadata": {},
   "source": [
    "---"
   ]
  },
  {
   "cell_type": "markdown",
   "metadata": {},
   "source": [
    "## Rolling Statistics\n",
    "\n",
    "Risk changes over time. Analyze the rolling statistics for Risk and Beta. \n",
    "\n",
    "1. Calculate and plot the rolling standard deviation for the S&P 500 using a 21-day window\n",
    "2. Calculate the correlation between each stock to determine which portfolios may mimick the S&P 500\n",
    "3. Choose one portfolio, then calculate and plot the 60-day rolling beta between it and the S&P 500"
   ]
  },
  {
   "cell_type": "markdown",
   "metadata": {},
   "source": [
    "### Calculate and plot rolling `std` for all portfolios with 21-day window"
   ]
  },
  {
   "cell_type": "code",
   "execution_count": 220,
   "metadata": {},
   "outputs": [
    {
     "data": {
      "text/plain": [
       "<AxesSubplot:xlabel='Date'>"
      ]
     },
     "execution_count": 220,
     "metadata": {},
     "output_type": "execute_result"
    },
    {
     "data": {
      "image/png": "[encoded data removed]",
      "text/plain": [
       "<Figure size 432x288 with 1 Axes>"
      ]
     },
     "metadata": {
      "needs_background": "light"
     },
     "output_type": "display_data"
    }
   ],
   "source": [
    "# Calculate the rolling standard deviation for all portfolios using a 21-day window\n",
    "all_rolling21_std = all_returns.rolling(window=21).std()\n",
    "\n",
    "# Plot the rolling standard deviation\n",
    "all_rolling21_std.plot()"
   ]
  },
  {
   "cell_type": "markdown",
   "metadata": {},
   "source": [
    "### Calculate and plot the correlation"
   ]
  },
  {
   "cell_type": "code",
   "execution_count": 221,
   "metadata": {},
   "outputs": [
    {
     "data": {
      "text/html": [
       "<style  type=\"text/css\" >\n",
       "#T_87c4e_row0_col0,#T_87c4e_row1_col1,#T_87c4e_row2_col2,#T_87c4e_row3_col3,#T_87c4e_row4_col4,#T_87c4e_row5_col5,#T_87c4e_row6_col6{\n",
       "            background-color:  #b40426;\n",
       "            color:  #f1f1f1;\n",
       "        }#T_87c4e_row0_col1{\n",
       "            background-color:  #f0cdbb;\n",
       "            color:  #000000;\n",
       "        }#T_87c4e_row0_col2{\n",
       "            background-color:  #d6dce4;\n",
       "            color:  #000000;\n",
       "        }#T_87c4e_row0_col3,#T_87c4e_row3_col6{\n",
       "            background-color:  #f7bca1;\n",
       "            color:  #000000;\n",
       "        }#T_87c4e_row0_col4{\n",
       "            background-color:  #779af7;\n",
       "            color:  #000000;\n",
       "        }#T_87c4e_row0_col5{\n",
       "            background-color:  #f39778;\n",
       "            color:  #000000;\n",
       "        }#T_87c4e_row0_col6{\n",
       "            background-color:  #f18f71;\n",
       "            color:  #000000;\n",
       "        }#T_87c4e_row1_col0{\n",
       "            background-color:  #ead4c8;\n",
       "            color:  #000000;\n",
       "        }#T_87c4e_row1_col2{\n",
       "            background-color:  #a6c4fe;\n",
       "            color:  #000000;\n",
       "        }#T_87c4e_row1_col3{\n",
       "            background-color:  #b2ccfb;\n",
       "            color:  #000000;\n",
       "        }#T_87c4e_row1_col4{\n",
       "            background-color:  #6282ea;\n",
       "            color:  #000000;\n",
       "        }#T_87c4e_row1_col5,#T_87c4e_row6_col1,#T_87c4e_row6_col2{\n",
       "            background-color:  #e9d5cb;\n",
       "            color:  #000000;\n",
       "        }#T_87c4e_row1_col6{\n",
       "            background-color:  #e7d7ce;\n",
       "            color:  #000000;\n",
       "        }#T_87c4e_row2_col0{\n",
       "            background-color:  #b1cbfc;\n",
       "            color:  #000000;\n",
       "        }#T_87c4e_row2_col1{\n",
       "            background-color:  #84a7fc;\n",
       "            color:  #000000;\n",
       "        }#T_87c4e_row2_col3{\n",
       "            background-color:  #7699f6;\n",
       "            color:  #000000;\n",
       "        }#T_87c4e_row2_col4,#T_87c4e_row4_col0,#T_87c4e_row4_col1,#T_87c4e_row4_col2,#T_87c4e_row4_col3,#T_87c4e_row4_col5,#T_87c4e_row4_col6{\n",
       "            background-color:  #3b4cc0;\n",
       "            color:  #f1f1f1;\n",
       "        }#T_87c4e_row2_col5{\n",
       "            background-color:  #a1c0ff;\n",
       "            color:  #000000;\n",
       "        }#T_87c4e_row2_col6{\n",
       "            background-color:  #d7dce3;\n",
       "            color:  #000000;\n",
       "        }#T_87c4e_row3_col0{\n",
       "            background-color:  #f5c0a7;\n",
       "            color:  #000000;\n",
       "        }#T_87c4e_row3_col1{\n",
       "            background-color:  #b9d0f9;\n",
       "            color:  #000000;\n",
       "        }#T_87c4e_row3_col2{\n",
       "            background-color:  #a2c1ff;\n",
       "            color:  #000000;\n",
       "        }#T_87c4e_row3_col4{\n",
       "            background-color:  #6b8df0;\n",
       "            color:  #000000;\n",
       "        }#T_87c4e_row3_col5,#T_87c4e_row5_col1,#T_87c4e_row5_col3{\n",
       "            background-color:  #ebd3c6;\n",
       "            color:  #000000;\n",
       "        }#T_87c4e_row5_col0{\n",
       "            background-color:  #f59c7d;\n",
       "            color:  #000000;\n",
       "        }#T_87c4e_row5_col2{\n",
       "            background-color:  #c4d5f3;\n",
       "            color:  #000000;\n",
       "        }#T_87c4e_row5_col4{\n",
       "            background-color:  #688aef;\n",
       "            color:  #000000;\n",
       "        }#T_87c4e_row5_col6,#T_87c4e_row6_col5{\n",
       "            background-color:  #ed8366;\n",
       "            color:  #000000;\n",
       "        }#T_87c4e_row6_col0{\n",
       "            background-color:  #f39577;\n",
       "            color:  #000000;\n",
       "        }#T_87c4e_row6_col3{\n",
       "            background-color:  #f6bda2;\n",
       "            color:  #000000;\n",
       "        }#T_87c4e_row6_col4{\n",
       "            background-color:  #6687ed;\n",
       "            color:  #000000;\n",
       "        }</style><table id=\"T_87c4e_\" ><thead>    <tr>        <th class=\"blank level0\" ></th>        <th class=\"col_heading level0 col0\" >SOROS FUND MANAGEMENT LLC</th>        <th class=\"col_heading level0 col1\" >PAULSON & CO.INC. </th>        <th class=\"col_heading level0 col2\" >TIGER GLOBAL MANAGEMENT LLC</th>        <th class=\"col_heading level0 col3\" >BERKSHIRE HATHAWAY INC</th>        <th class=\"col_heading level0 col4\" >Algo 1</th>        <th class=\"col_heading level0 col5\" >Algo 2</th>        <th class=\"col_heading level0 col6\" >S&P 500</th>    </tr></thead><tbody>\n",
       "                <tr>\n",
       "                        <th id=\"T_87c4e_level0_row0\" class=\"row_heading level0 row0\" >SOROS FUND MANAGEMENT LLC</th>\n",
       "                        <td id=\"T_87c4e_row0_col0\" class=\"data row0 col0\" >1.000000</td>\n",
       "                        <td id=\"T_87c4e_row0_col1\" class=\"data row0 col1\" >0.699914</td>\n",
       "                        <td id=\"T_87c4e_row0_col2\" class=\"data row0 col2\" >0.561243</td>\n",
       "                        <td id=\"T_87c4e_row0_col3\" class=\"data row0 col3\" >0.754360</td>\n",
       "                        <td id=\"T_87c4e_row0_col4\" class=\"data row0 col4\" >0.321211</td>\n",
       "                        <td id=\"T_87c4e_row0_col5\" class=\"data row0 col5\" >0.826873</td>\n",
       "                        <td id=\"T_87c4e_row0_col6\" class=\"data row0 col6\" >0.837864</td>\n",
       "            </tr>\n",
       "            <tr>\n",
       "                        <th id=\"T_87c4e_level0_row1\" class=\"row_heading level0 row1\" >PAULSON & CO.INC. </th>\n",
       "                        <td id=\"T_87c4e_row1_col0\" class=\"data row1 col0\" >0.699914</td>\n",
       "                        <td id=\"T_87c4e_row1_col1\" class=\"data row1 col1\" >1.000000</td>\n",
       "                        <td id=\"T_87c4e_row1_col2\" class=\"data row1 col2\" >0.434479</td>\n",
       "                        <td id=\"T_87c4e_row1_col3\" class=\"data row1 col3\" >0.545623</td>\n",
       "                        <td id=\"T_87c4e_row1_col4\" class=\"data row1 col4\" >0.268840</td>\n",
       "                        <td id=\"T_87c4e_row1_col5\" class=\"data row1 col5\" >0.678152</td>\n",
       "                        <td id=\"T_87c4e_row1_col6\" class=\"data row1 col6\" >0.669732</td>\n",
       "            </tr>\n",
       "            <tr>\n",
       "                        <th id=\"T_87c4e_level0_row2\" class=\"row_heading level0 row2\" >TIGER GLOBAL MANAGEMENT LLC</th>\n",
       "                        <td id=\"T_87c4e_row2_col0\" class=\"data row2 col0\" >0.561243</td>\n",
       "                        <td id=\"T_87c4e_row2_col1\" class=\"data row2 col1\" >0.434479</td>\n",
       "                        <td id=\"T_87c4e_row2_col2\" class=\"data row2 col2\" >1.000000</td>\n",
       "                        <td id=\"T_87c4e_row2_col3\" class=\"data row2 col3\" >0.424423</td>\n",
       "                        <td id=\"T_87c4e_row2_col4\" class=\"data row2 col4\" >0.164387</td>\n",
       "                        <td id=\"T_87c4e_row2_col5\" class=\"data row2 col5\" >0.507414</td>\n",
       "                        <td id=\"T_87c4e_row2_col6\" class=\"data row2 col6\" >0.623946</td>\n",
       "            </tr>\n",
       "            <tr>\n",
       "                        <th id=\"T_87c4e_level0_row3\" class=\"row_heading level0 row3\" >BERKSHIRE HATHAWAY INC</th>\n",
       "                        <td id=\"T_87c4e_row3_col0\" class=\"data row3 col0\" >0.754360</td>\n",
       "                        <td id=\"T_87c4e_row3_col1\" class=\"data row3 col1\" >0.545623</td>\n",
       "                        <td id=\"T_87c4e_row3_col2\" class=\"data row3 col2\" >0.424423</td>\n",
       "                        <td id=\"T_87c4e_row3_col3\" class=\"data row3 col3\" >1.000000</td>\n",
       "                        <td id=\"T_87c4e_row3_col4\" class=\"data row3 col4\" >0.292033</td>\n",
       "                        <td id=\"T_87c4e_row3_col5\" class=\"data row3 col5\" >0.688082</td>\n",
       "                        <td id=\"T_87c4e_row3_col6\" class=\"data row3 col6\" >0.751371</td>\n",
       "            </tr>\n",
       "            <tr>\n",
       "                        <th id=\"T_87c4e_level0_row4\" class=\"row_heading level0 row4\" >Algo 1</th>\n",
       "                        <td id=\"T_87c4e_row4_col0\" class=\"data row4 col0\" >0.321211</td>\n",
       "                        <td id=\"T_87c4e_row4_col1\" class=\"data row4 col1\" >0.268840</td>\n",
       "                        <td id=\"T_87c4e_row4_col2\" class=\"data row4 col2\" >0.164387</td>\n",
       "                        <td id=\"T_87c4e_row4_col3\" class=\"data row4 col3\" >0.292033</td>\n",
       "                        <td id=\"T_87c4e_row4_col4\" class=\"data row4 col4\" >1.000000</td>\n",
       "                        <td id=\"T_87c4e_row4_col5\" class=\"data row4 col5\" >0.288243</td>\n",
       "                        <td id=\"T_87c4e_row4_col6\" class=\"data row4 col6\" >0.279494</td>\n",
       "            </tr>\n",
       "            <tr>\n",
       "                        <th id=\"T_87c4e_level0_row5\" class=\"row_heading level0 row5\" >Algo 2</th>\n",
       "                        <td id=\"T_87c4e_row5_col0\" class=\"data row5 col0\" >0.826873</td>\n",
       "                        <td id=\"T_87c4e_row5_col1\" class=\"data row5 col1\" >0.678152</td>\n",
       "                        <td id=\"T_87c4e_row5_col2\" class=\"data row5 col2\" >0.507414</td>\n",
       "                        <td id=\"T_87c4e_row5_col3\" class=\"data row5 col3\" >0.688082</td>\n",
       "                        <td id=\"T_87c4e_row5_col4\" class=\"data row5 col4\" >0.288243</td>\n",
       "                        <td id=\"T_87c4e_row5_col5\" class=\"data row5 col5\" >1.000000</td>\n",
       "                        <td id=\"T_87c4e_row5_col6\" class=\"data row5 col6\" >0.858764</td>\n",
       "            </tr>\n",
       "            <tr>\n",
       "                        <th id=\"T_87c4e_level0_row6\" class=\"row_heading level0 row6\" >S&P 500</th>\n",
       "                        <td id=\"T_87c4e_row6_col0\" class=\"data row6 col0\" >0.837864</td>\n",
       "                        <td id=\"T_87c4e_row6_col1\" class=\"data row6 col1\" >0.669732</td>\n",
       "                        <td id=\"T_87c4e_row6_col2\" class=\"data row6 col2\" >0.623946</td>\n",
       "                        <td id=\"T_87c4e_row6_col3\" class=\"data row6 col3\" >0.751371</td>\n",
       "                        <td id=\"T_87c4e_row6_col4\" class=\"data row6 col4\" >0.279494</td>\n",
       "                        <td id=\"T_87c4e_row6_col5\" class=\"data row6 col5\" >0.858764</td>\n",
       "                        <td id=\"T_87c4e_row6_col6\" class=\"data row6 col6\" >1.000000</td>\n",
       "            </tr>\n",
       "    </tbody></table>"
      ],
      "text/plain": [
       "<pandas.io.formats.style.Styler at 0x2e431ea93d0>"
      ]
     },
     "execution_count": 221,
     "metadata": {},
     "output_type": "execute_result"
    }
   ],
   "source": [
    "# Calculate the correlation\n",
    "all_correlation = all_returns.corr()\n",
    "\n",
    "# Display de correlation matrix\n",
    "all_correlation.style.background_gradient(cmap='coolwarm')"
   ]
  },
  {
   "cell_type": "markdown",
   "metadata": {},
   "source": [
    "### Calculate and Plot Beta for a chosen portfolio and the S&P 500"
   ]
  },
  {
   "cell_type": "code",
   "execution_count": 222,
   "metadata": {},
   "outputs": [
    {
     "data": {
      "text/plain": [
       "<AxesSubplot:xlabel='Date'>"
      ]
     },
     "execution_count": 222,
     "metadata": {},
     "output_type": "execute_result"
    },
    {
     "data": {
      "image/png": "[encoded data removed]",
      "text/plain": [
       "<Figure size 432x288 with 1 Axes>"
      ]
     },
     "metadata": {
      "needs_background": "light"
     },
     "output_type": "display_data"
    }
   ],
   "source": [
    "# Calculate covariance of a single portfolio\n",
    "algo1_covar_roll60day = all_returns[\"Algo 1\"].rolling(window=60).cov(all_returns[\"S&P 500\"])\n",
    "\n",
    "# Calculate variance of S&P 500\n",
    "sp500_var_roll60day = all_returns[\"S&P 500\"].rolling(window=60).var()\n",
    "\n",
    "\n",
    "# Computing beta\n",
    "algo1_beta_roll60day = algo1_covar_roll60day / sp500_var_roll60day\n",
    "\n",
    "# Plot beta trend\n",
    "algo1_beta_roll60day.plot()\n"
   ]
  },
  {
   "cell_type": "markdown",
   "metadata": {},
   "source": [
    "## Rolling Statistics Challenge: Exponentially Weighted Average \n",
    "\n",
    "An alternative way to calculate a rolling window is to take the exponentially weighted moving average. This is like a moving window average, but it assigns greater importance to more recent observations. Try calculating the [`ewm`](https://pandas.pydata.org/pandas-docs/stable/reference/api/pandas.DataFrame.ewm.html) with a 21-day half-life."
   ]
  },
  {
   "cell_type": "code",
   "execution_count": 223,
   "metadata": {},
   "outputs": [
    {
     "data": {
      "text/plain": [
       "<AxesSubplot:xlabel='Date'>"
      ]
     },
     "execution_count": 223,
     "metadata": {},
     "output_type": "execute_result"
    },
    {
     "data": {
      "image/png": "[encoded data removed]",
      "text/plain": [
       "<Figure size 432x288 with 1 Axes>"
      ]
     },
     "metadata": {
      "needs_background": "light"
     },
     "output_type": "display_data"
    }
   ],
   "source": [
    "# Use `ewm` to calculate the rolling window\n",
    "\n",
    "\n",
    "# Calculate covariance of a single portfolio\n",
    "algo1_covar_ewm = all_returns[\"Algo 1\"].ewm(halflife=21).cov(all_returns[\"S&P 500\"])\n",
    "\n",
    "# Calculate variance of S&P 500\n",
    "sp500_var_ewm = all_returns[\"S&P 500\"].ewm(halflife=21).var()\n",
    "\n",
    "\n",
    "# Computing beta\n",
    "algo1_beta_ewm = algo1_covar_ewm / sp500_var_ewm\n",
    "\n",
    "# Plot beta trend\n",
    "algo1_beta_ewm.plot()\n"
   ]
  },
  {
   "cell_type": "markdown",
   "metadata": {},
   "source": [
    "---"
   ]
  },
  {
   "cell_type": "markdown",
   "metadata": {},
   "source": [
    "# Sharpe Ratios\n",
    "In reality, investment managers and thier institutional investors look at the ratio of return-to-risk, and not just returns alone. After all, if you could invest in one of two portfolios, and each offered the same 10% return, yet one offered lower risk, you'd take that one, right?\n",
    "\n",
    "### Using the daily returns, calculate and visualize the Sharpe ratios using a bar plot"
   ]
  },
  {
   "cell_type": "code",
   "execution_count": 224,
   "metadata": {},
   "outputs": [
    {
     "data": {
      "text/plain": [
       "SOROS FUND MANAGEMENT LLC      0.356417\n",
       "PAULSON & CO.INC.             -0.483570\n",
       "TIGER GLOBAL MANAGEMENT LLC   -0.121060\n",
       "BERKSHIRE HATHAWAY INC         0.621810\n",
       "Algo 1                         1.378648\n",
       "Algo 2                         0.501364\n",
       "S&P 500                        0.648267\n",
       "dtype: float64"
      ]
     },
     "execution_count": 224,
     "metadata": {},
     "output_type": "execute_result"
    }
   ],
   "source": [
    "# Annualized Sharpe Ratios\n",
    "all_sharpe = (all_returns.mean() * 252) / (all_returns.std() * np.sqrt(252))\n",
    "all_sharpe"
   ]
  },
  {
   "cell_type": "code",
   "execution_count": 225,
   "metadata": {},
   "outputs": [
    {
     "data": {
      "text/plain": [
       "<AxesSubplot:>"
      ]
     },
     "execution_count": 225,
     "metadata": {},
     "output_type": "execute_result"
    },
    {
     "data": {
      "image/png": "[encoded data removed]",
      "text/plain": [
       "<Figure size 432x288 with 1 Axes>"
      ]
     },
     "metadata": {
      "needs_background": "light"
     },
     "output_type": "display_data"
    }
   ],
   "source": [
    "# Visualize the sharpe ratios as a bar plot\n",
    "all_sharpe.plot.bar()"
   ]
  },
  {
   "cell_type": "markdown",
   "metadata": {},
   "source": [
    "### Determine whether the algorithmic strategies outperform both the market (S&P 500) and the whales portfolios.\n",
    "\n",
    "Algorithim 1 is by far the best performer, with a Sharpe ratio of 1.38. This is the only strategy with a ratio above 1, indicating it is an acceptable investment to make. This beats the market (+0.65) and the next highest whale, Berkshire Hathaway (+0.62).  After that Algorithim 2 is better than all the whales with a ratio of 0.50, excluding Berkshire, and it does not beat the market.  So while it is competitive compared to the other whales, it is below a 1.0 indicating a sub-optimal investment and it is not a market beater like Algorithim 1."
   ]
  },
  {
   "cell_type": "markdown",
   "metadata": {},
   "source": [
    "---"
   ]
  },
  {
   "cell_type": "markdown",
   "metadata": {},
   "source": [
    "# Create Custom Portfolio\n",
    "\n",
    "In this section, you will build your own portfolio of stocks, calculate the returns, and compare the results to the Whale Portfolios and the S&P 500. \n",
    "\n",
    "1. Choose 3-5 custom stocks with at last 1 year's worth of historic prices and create a DataFrame of the closing prices and dates for each stock.\n",
    "2. Calculate the weighted returns for the portfolio assuming an equal number of shares for each stock\n",
    "3. Join your portfolio returns to the DataFrame that contains all of the portfolio returns\n",
    "4. Re-run the performance and risk analysis with your portfolio to see how it compares to the others\n",
    "5. Include correlation analysis to determine which stocks (if any) are correlated"
   ]
  },
  {
   "cell_type": "markdown",
   "metadata": {},
   "source": [
    "## Choose 3-5 custom stocks with at last 1 year's worth of historic prices and create a DataFrame of the closing prices and dates for each stock.\n",
    "\n",
    "For this demo solution, we fetch data from three companies listes in the S&P 500 index.\n",
    "\n",
    "* `GOOG` - [Google, LLC](https://en.wikipedia.org/wiki/Google)\n",
    "\n",
    "* `AAPL` - [Apple Inc.](https://en.wikipedia.org/wiki/Apple_Inc.)\n",
    "\n",
    "* `COST` - [Costco Wholesale Corporation](https://en.wikipedia.org/wiki/Costco)"
   ]
  },
  {
   "cell_type": "code",
   "execution_count": 226,
   "metadata": {},
   "outputs": [
    {
     "data": {
      "text/html": [
       "<div>\n",
       "<style scoped>\n",
       "    .dataframe tbody tr th:only-of-type {\n",
       "        vertical-align: middle;\n",
       "    }\n",
       "\n",
       "    .dataframe tbody tr th {\n",
       "        vertical-align: top;\n",
       "    }\n",
       "\n",
       "    .dataframe thead th {\n",
       "        text-align: right;\n",
       "    }\n",
       "</style>\n",
       "<table border=\"1\" class=\"dataframe\">\n",
       "  <thead>\n",
       "    <tr style=\"text-align: right;\">\n",
       "      <th></th>\n",
       "      <th>GOOG</th>\n",
       "    </tr>\n",
       "    <tr>\n",
       "      <th>Trade DATE</th>\n",
       "      <th></th>\n",
       "    </tr>\n",
       "  </thead>\n",
       "  <tbody>\n",
       "    <tr>\n",
       "      <th>2018-05-11</th>\n",
       "      <td>1098.26</td>\n",
       "    </tr>\n",
       "    <tr>\n",
       "      <th>2018-05-14</th>\n",
       "      <td>1100.20</td>\n",
       "    </tr>\n",
       "    <tr>\n",
       "      <th>2018-05-15</th>\n",
       "      <td>1079.23</td>\n",
       "    </tr>\n",
       "    <tr>\n",
       "      <th>2018-05-16</th>\n",
       "      <td>1081.77</td>\n",
       "    </tr>\n",
       "    <tr>\n",
       "      <th>2018-05-17</th>\n",
       "      <td>1078.59</td>\n",
       "    </tr>\n",
       "  </tbody>\n",
       "</table>\n",
       "</div>"
      ],
      "text/plain": [
       "               GOOG\n",
       "Trade DATE         \n",
       "2018-05-11  1098.26\n",
       "2018-05-14  1100.20\n",
       "2018-05-15  1079.23\n",
       "2018-05-16  1081.77\n",
       "2018-05-17  1078.59"
      ]
     },
     "execution_count": 226,
     "metadata": {},
     "output_type": "execute_result"
    }
   ],
   "source": [
    "# Reading data from 1st stock\n",
    "goog_data = Path(\"Resources/goog_historical.csv\")\n",
    "goog = pd.read_csv(goog_data, index_col=\"Trade DATE\", infer_datetime_format=True, parse_dates=True)\n",
    "goog.sort_index(inplace=True)\n",
    "goog = goog.drop(columns=[\"Symbol\"])\n",
    "goog = goog.rename(columns={\n",
    "    \"Trade Date\": \"Date\",\n",
    "    \"NOCP\": \"GOOG\"\n",
    "})\n",
    "goog.head()"
   ]
  },
  {
   "cell_type": "code",
   "execution_count": 227,
   "metadata": {},
   "outputs": [
    {
     "data": {
      "text/html": [
       "<div>\n",
       "<style scoped>\n",
       "    .dataframe tbody tr th:only-of-type {\n",
       "        vertical-align: middle;\n",
       "    }\n",
       "\n",
       "    .dataframe tbody tr th {\n",
       "        vertical-align: top;\n",
       "    }\n",
       "\n",
       "    .dataframe thead th {\n",
       "        text-align: right;\n",
       "    }\n",
       "</style>\n",
       "<table border=\"1\" class=\"dataframe\">\n",
       "  <thead>\n",
       "    <tr style=\"text-align: right;\">\n",
       "      <th></th>\n",
       "      <th>AAPL</th>\n",
       "    </tr>\n",
       "    <tr>\n",
       "      <th>Trade DATE</th>\n",
       "      <th></th>\n",
       "    </tr>\n",
       "  </thead>\n",
       "  <tbody>\n",
       "    <tr>\n",
       "      <th>2018-05-11</th>\n",
       "      <td>188.59</td>\n",
       "    </tr>\n",
       "    <tr>\n",
       "      <th>2018-05-14</th>\n",
       "      <td>188.15</td>\n",
       "    </tr>\n",
       "    <tr>\n",
       "      <th>2018-05-15</th>\n",
       "      <td>186.44</td>\n",
       "    </tr>\n",
       "    <tr>\n",
       "      <th>2018-05-16</th>\n",
       "      <td>188.18</td>\n",
       "    </tr>\n",
       "    <tr>\n",
       "      <th>2018-05-17</th>\n",
       "      <td>186.99</td>\n",
       "    </tr>\n",
       "  </tbody>\n",
       "</table>\n",
       "</div>"
      ],
      "text/plain": [
       "              AAPL\n",
       "Trade DATE        \n",
       "2018-05-11  188.59\n",
       "2018-05-14  188.15\n",
       "2018-05-15  186.44\n",
       "2018-05-16  188.18\n",
       "2018-05-17  186.99"
      ]
     },
     "execution_count": 227,
     "metadata": {},
     "output_type": "execute_result"
    }
   ],
   "source": [
    "# Reading data from 2nd stock\n",
    "aapl_data = Path(\"Resources/aapl_historical.csv\")\n",
    "aapl = pd.read_csv(aapl_data, index_col=\"Trade DATE\", infer_datetime_format=True, parse_dates=True)\n",
    "aapl.sort_index(inplace=True)\n",
    "aapl = aapl.drop(columns=[\"Symbol\"])\n",
    "aapl = aapl.rename(columns={\n",
    "    \"Trade Date\": \"Date\",\n",
    "    \"NOCP\": \"AAPL\"\n",
    "})\n",
    "aapl.head()"
   ]
  },
  {
   "cell_type": "code",
   "execution_count": 228,
   "metadata": {},
   "outputs": [
    {
     "data": {
      "text/html": [
       "<div>\n",
       "<style scoped>\n",
       "    .dataframe tbody tr th:only-of-type {\n",
       "        vertical-align: middle;\n",
       "    }\n",
       "\n",
       "    .dataframe tbody tr th {\n",
       "        vertical-align: top;\n",
       "    }\n",
       "\n",
       "    .dataframe thead th {\n",
       "        text-align: right;\n",
       "    }\n",
       "</style>\n",
       "<table border=\"1\" class=\"dataframe\">\n",
       "  <thead>\n",
       "    <tr style=\"text-align: right;\">\n",
       "      <th></th>\n",
       "      <th>COST</th>\n",
       "    </tr>\n",
       "    <tr>\n",
       "      <th>Trade DATE</th>\n",
       "      <th></th>\n",
       "    </tr>\n",
       "  </thead>\n",
       "  <tbody>\n",
       "    <tr>\n",
       "      <th>2018-05-11</th>\n",
       "      <td>195.76</td>\n",
       "    </tr>\n",
       "    <tr>\n",
       "      <th>2018-05-14</th>\n",
       "      <td>195.88</td>\n",
       "    </tr>\n",
       "    <tr>\n",
       "      <th>2018-05-15</th>\n",
       "      <td>195.48</td>\n",
       "    </tr>\n",
       "    <tr>\n",
       "      <th>2018-05-16</th>\n",
       "      <td>198.71</td>\n",
       "    </tr>\n",
       "    <tr>\n",
       "      <th>2018-05-17</th>\n",
       "      <td>199.60</td>\n",
       "    </tr>\n",
       "  </tbody>\n",
       "</table>\n",
       "</div>"
      ],
      "text/plain": [
       "              COST\n",
       "Trade DATE        \n",
       "2018-05-11  195.76\n",
       "2018-05-14  195.88\n",
       "2018-05-15  195.48\n",
       "2018-05-16  198.71\n",
       "2018-05-17  199.60"
      ]
     },
     "execution_count": 228,
     "metadata": {},
     "output_type": "execute_result"
    }
   ],
   "source": [
    "# Reading data from 3rd stock\n",
    "cost_data = Path(\"Resources/cost_historical.csv\")\n",
    "cost = pd.read_csv(cost_data, index_col=\"Trade DATE\", infer_datetime_format=True, parse_dates=True)\n",
    "cost.sort_index(inplace=True)\n",
    "cost = cost.drop(columns=[\"Symbol\"])\n",
    "cost = cost.rename(columns={\n",
    "    \"Trade Date\": \"Date\",\n",
    "    \"NOCP\": \"COST\"\n",
    "})\n",
    "cost.head()"
   ]
  },
  {
   "cell_type": "code",
   "execution_count": 229,
   "metadata": {},
   "outputs": [
    {
     "data": {
      "text/html": [
       "<div>\n",
       "<style scoped>\n",
       "    .dataframe tbody tr th:only-of-type {\n",
       "        vertical-align: middle;\n",
       "    }\n",
       "\n",
       "    .dataframe tbody tr th {\n",
       "        vertical-align: top;\n",
       "    }\n",
       "\n",
       "    .dataframe thead th {\n",
       "        text-align: right;\n",
       "    }\n",
       "</style>\n",
       "<table border=\"1\" class=\"dataframe\">\n",
       "  <thead>\n",
       "    <tr style=\"text-align: right;\">\n",
       "      <th></th>\n",
       "      <th>GOOG</th>\n",
       "      <th>AAPL</th>\n",
       "      <th>COST</th>\n",
       "    </tr>\n",
       "    <tr>\n",
       "      <th>Trade DATE</th>\n",
       "      <th></th>\n",
       "      <th></th>\n",
       "      <th></th>\n",
       "    </tr>\n",
       "  </thead>\n",
       "  <tbody>\n",
       "    <tr>\n",
       "      <th>2018-05-11</th>\n",
       "      <td>1098.26</td>\n",
       "      <td>188.59</td>\n",
       "      <td>195.76</td>\n",
       "    </tr>\n",
       "    <tr>\n",
       "      <th>2018-05-14</th>\n",
       "      <td>1100.20</td>\n",
       "      <td>188.15</td>\n",
       "      <td>195.88</td>\n",
       "    </tr>\n",
       "    <tr>\n",
       "      <th>2018-05-15</th>\n",
       "      <td>1079.23</td>\n",
       "      <td>186.44</td>\n",
       "      <td>195.48</td>\n",
       "    </tr>\n",
       "    <tr>\n",
       "      <th>2018-05-16</th>\n",
       "      <td>1081.77</td>\n",
       "      <td>188.18</td>\n",
       "      <td>198.71</td>\n",
       "    </tr>\n",
       "    <tr>\n",
       "      <th>2018-05-17</th>\n",
       "      <td>1078.59</td>\n",
       "      <td>186.99</td>\n",
       "      <td>199.60</td>\n",
       "    </tr>\n",
       "  </tbody>\n",
       "</table>\n",
       "</div>"
      ],
      "text/plain": [
       "               GOOG    AAPL    COST\n",
       "Trade DATE                         \n",
       "2018-05-11  1098.26  188.59  195.76\n",
       "2018-05-14  1100.20  188.15  195.88\n",
       "2018-05-15  1079.23  186.44  195.48\n",
       "2018-05-16  1081.77  188.18  198.71\n",
       "2018-05-17  1078.59  186.99  199.60"
      ]
     },
     "execution_count": 229,
     "metadata": {},
     "output_type": "execute_result"
    }
   ],
   "source": [
    "# Combine all stocks in a single DataFrame\n",
    "new_port = pd.concat([goog, aapl, cost], axis=\"columns\", join=\"inner\")\n",
    "new_port.head()"
   ]
  },
  {
   "cell_type": "code",
   "execution_count": 230,
   "metadata": {},
   "outputs": [],
   "source": [
    "# Reset Date index - Already done on Import\n"
   ]
  },
  {
   "cell_type": "code",
   "execution_count": 231,
   "metadata": {},
   "outputs": [],
   "source": [
    "# Reorganize portfolio data by having a column per symbol - Already done on import\n"
   ]
  },
  {
   "cell_type": "code",
   "execution_count": 232,
   "metadata": {},
   "outputs": [
    {
     "data": {
      "text/html": [
       "<div>\n",
       "<style scoped>\n",
       "    .dataframe tbody tr th:only-of-type {\n",
       "        vertical-align: middle;\n",
       "    }\n",
       "\n",
       "    .dataframe tbody tr th {\n",
       "        vertical-align: top;\n",
       "    }\n",
       "\n",
       "    .dataframe thead th {\n",
       "        text-align: right;\n",
       "    }\n",
       "</style>\n",
       "<table border=\"1\" class=\"dataframe\">\n",
       "  <thead>\n",
       "    <tr style=\"text-align: right;\">\n",
       "      <th></th>\n",
       "      <th>GOOG</th>\n",
       "      <th>AAPL</th>\n",
       "      <th>COST</th>\n",
       "    </tr>\n",
       "    <tr>\n",
       "      <th>Trade DATE</th>\n",
       "      <th></th>\n",
       "      <th></th>\n",
       "      <th></th>\n",
       "    </tr>\n",
       "  </thead>\n",
       "  <tbody>\n",
       "    <tr>\n",
       "      <th>2018-05-14</th>\n",
       "      <td>0.001766</td>\n",
       "      <td>-0.002333</td>\n",
       "      <td>0.000613</td>\n",
       "    </tr>\n",
       "    <tr>\n",
       "      <th>2018-05-15</th>\n",
       "      <td>-0.019060</td>\n",
       "      <td>-0.009088</td>\n",
       "      <td>-0.002042</td>\n",
       "    </tr>\n",
       "    <tr>\n",
       "      <th>2018-05-16</th>\n",
       "      <td>0.002354</td>\n",
       "      <td>0.009333</td>\n",
       "      <td>0.016523</td>\n",
       "    </tr>\n",
       "    <tr>\n",
       "      <th>2018-05-17</th>\n",
       "      <td>-0.002940</td>\n",
       "      <td>-0.006324</td>\n",
       "      <td>0.004479</td>\n",
       "    </tr>\n",
       "    <tr>\n",
       "      <th>2018-05-18</th>\n",
       "      <td>-0.011339</td>\n",
       "      <td>-0.003637</td>\n",
       "      <td>-0.003206</td>\n",
       "    </tr>\n",
       "  </tbody>\n",
       "</table>\n",
       "</div>"
      ],
      "text/plain": [
       "                GOOG      AAPL      COST\n",
       "Trade DATE                              \n",
       "2018-05-14  0.001766 -0.002333  0.000613\n",
       "2018-05-15 -0.019060 -0.009088 -0.002042\n",
       "2018-05-16  0.002354  0.009333  0.016523\n",
       "2018-05-17 -0.002940 -0.006324  0.004479\n",
       "2018-05-18 -0.011339 -0.003637 -0.003206"
      ]
     },
     "execution_count": 232,
     "metadata": {},
     "output_type": "execute_result"
    }
   ],
   "source": [
    "# Calculate daily returns\n",
    "new_port_returns = new_port.pct_change()\n",
    "\n",
    "# Drop NAs\n",
    "new_port_returns = new_port_returns.dropna()\n",
    "\n",
    "# Display sample data\n",
    "new_port_returns.head()\n"
   ]
  },
  {
   "cell_type": "markdown",
   "metadata": {},
   "source": [
    "## Calculate the weighted returns for the portfolio assuming an equal number of shares for each stock"
   ]
  },
  {
   "cell_type": "code",
   "execution_count": 233,
   "metadata": {},
   "outputs": [
    {
     "data": {
      "text/html": [
       "<div>\n",
       "<style scoped>\n",
       "    .dataframe tbody tr th:only-of-type {\n",
       "        vertical-align: middle;\n",
       "    }\n",
       "\n",
       "    .dataframe tbody tr th {\n",
       "        vertical-align: top;\n",
       "    }\n",
       "\n",
       "    .dataframe thead th {\n",
       "        text-align: right;\n",
       "    }\n",
       "</style>\n",
       "<table border=\"1\" class=\"dataframe\">\n",
       "  <thead>\n",
       "    <tr style=\"text-align: right;\">\n",
       "      <th></th>\n",
       "      <th>New Portfolio</th>\n",
       "    </tr>\n",
       "    <tr>\n",
       "      <th>Trade DATE</th>\n",
       "      <th></th>\n",
       "    </tr>\n",
       "  </thead>\n",
       "  <tbody>\n",
       "    <tr>\n",
       "      <th>2018-05-14</th>\n",
       "      <td>0.000015</td>\n",
       "    </tr>\n",
       "    <tr>\n",
       "      <th>2018-05-15</th>\n",
       "      <td>-0.010064</td>\n",
       "    </tr>\n",
       "    <tr>\n",
       "      <th>2018-05-16</th>\n",
       "      <td>0.009403</td>\n",
       "    </tr>\n",
       "    <tr>\n",
       "      <th>2018-05-17</th>\n",
       "      <td>-0.001595</td>\n",
       "    </tr>\n",
       "    <tr>\n",
       "      <th>2018-05-18</th>\n",
       "      <td>-0.006061</td>\n",
       "    </tr>\n",
       "  </tbody>\n",
       "</table>\n",
       "</div>"
      ],
      "text/plain": [
       "            New Portfolio\n",
       "Trade DATE               \n",
       "2018-05-14       0.000015\n",
       "2018-05-15      -0.010064\n",
       "2018-05-16       0.009403\n",
       "2018-05-17      -0.001595\n",
       "2018-05-18      -0.006061"
      ]
     },
     "execution_count": 233,
     "metadata": {},
     "output_type": "execute_result"
    }
   ],
   "source": [
    "# Set weights\n",
    "weights = [1/3, 1/3, 1/3]\n",
    "\n",
    "# Calculate portfolio return\n",
    "port_returns_weighted = (weights[0] * new_port_returns[\"GOOG\"]) + (weights[1] * new_port_returns[\"AAPL\"]) + (weights[2] * new_port_returns[\"COST\"])\n",
    "\n",
    "# Display sample data\n",
    "port_returns = pd.DataFrame(port_returns_weighted)\n",
    "port_returns = port_returns.rename(columns={\n",
    "    0: \"New Portfolio\"\n",
    "})\n",
    "port_returns.head()\n"
   ]
  },
  {
   "cell_type": "markdown",
   "metadata": {},
   "source": [
    "## Join your portfolio returns to the DataFrame that contains all of the portfolio returns"
   ]
  },
  {
   "cell_type": "code",
   "execution_count": 234,
   "metadata": {},
   "outputs": [
    {
     "data": {
      "text/html": [
       "<div>\n",
       "<style scoped>\n",
       "    .dataframe tbody tr th:only-of-type {\n",
       "        vertical-align: middle;\n",
       "    }\n",
       "\n",
       "    .dataframe tbody tr th {\n",
       "        vertical-align: top;\n",
       "    }\n",
       "\n",
       "    .dataframe thead th {\n",
       "        text-align: right;\n",
       "    }\n",
       "</style>\n",
       "<table border=\"1\" class=\"dataframe\">\n",
       "  <thead>\n",
       "    <tr style=\"text-align: right;\">\n",
       "      <th></th>\n",
       "      <th>SOROS FUND MANAGEMENT LLC</th>\n",
       "      <th>PAULSON &amp; CO.INC.</th>\n",
       "      <th>TIGER GLOBAL MANAGEMENT LLC</th>\n",
       "      <th>BERKSHIRE HATHAWAY INC</th>\n",
       "      <th>Algo 1</th>\n",
       "      <th>Algo 2</th>\n",
       "      <th>S&amp;P 500</th>\n",
       "      <th>New Portfolio</th>\n",
       "    </tr>\n",
       "  </thead>\n",
       "  <tbody>\n",
       "    <tr>\n",
       "      <th>2018-05-14</th>\n",
       "      <td>0.000000</td>\n",
       "      <td>0.000000</td>\n",
       "      <td>0.000000</td>\n",
       "      <td>0.000000</td>\n",
       "      <td>0.000915</td>\n",
       "      <td>0.001635</td>\n",
       "      <td>0.000884</td>\n",
       "      <td>0.000015</td>\n",
       "    </tr>\n",
       "    <tr>\n",
       "      <th>2018-05-15</th>\n",
       "      <td>-0.000726</td>\n",
       "      <td>-0.001409</td>\n",
       "      <td>-0.003189</td>\n",
       "      <td>-0.014606</td>\n",
       "      <td>-0.001135</td>\n",
       "      <td>-0.001139</td>\n",
       "      <td>-0.006842</td>\n",
       "      <td>-0.010064</td>\n",
       "    </tr>\n",
       "    <tr>\n",
       "      <th>2018-05-16</th>\n",
       "      <td>0.008637</td>\n",
       "      <td>0.006244</td>\n",
       "      <td>0.005480</td>\n",
       "      <td>0.004310</td>\n",
       "      <td>-0.002326</td>\n",
       "      <td>0.003341</td>\n",
       "      <td>0.004061</td>\n",
       "      <td>0.009403</td>\n",
       "    </tr>\n",
       "    <tr>\n",
       "      <th>2018-05-17</th>\n",
       "      <td>-0.001955</td>\n",
       "      <td>0.002524</td>\n",
       "      <td>-0.006267</td>\n",
       "      <td>-0.005140</td>\n",
       "      <td>-0.006949</td>\n",
       "      <td>0.005205</td>\n",
       "      <td>-0.000856</td>\n",
       "      <td>-0.001595</td>\n",
       "    </tr>\n",
       "    <tr>\n",
       "      <th>2018-05-18</th>\n",
       "      <td>-0.004357</td>\n",
       "      <td>-0.002672</td>\n",
       "      <td>-0.012832</td>\n",
       "      <td>-0.002212</td>\n",
       "      <td>0.002557</td>\n",
       "      <td>-0.002496</td>\n",
       "      <td>-0.002632</td>\n",
       "      <td>-0.006061</td>\n",
       "    </tr>\n",
       "  </tbody>\n",
       "</table>\n",
       "</div>"
      ],
      "text/plain": [
       "            SOROS FUND MANAGEMENT LLC  PAULSON & CO.INC.   \\\n",
       "2018-05-14                   0.000000            0.000000   \n",
       "2018-05-15                  -0.000726           -0.001409   \n",
       "2018-05-16                   0.008637            0.006244   \n",
       "2018-05-17                  -0.001955            0.002524   \n",
       "2018-05-18                  -0.004357           -0.002672   \n",
       "\n",
       "            TIGER GLOBAL MANAGEMENT LLC  BERKSHIRE HATHAWAY INC    Algo 1  \\\n",
       "2018-05-14                     0.000000                0.000000  0.000915   \n",
       "2018-05-15                    -0.003189               -0.014606 -0.001135   \n",
       "2018-05-16                     0.005480                0.004310 -0.002326   \n",
       "2018-05-17                    -0.006267               -0.005140 -0.006949   \n",
       "2018-05-18                    -0.012832               -0.002212  0.002557   \n",
       "\n",
       "              Algo 2   S&P 500  New Portfolio  \n",
       "2018-05-14  0.001635  0.000884       0.000015  \n",
       "2018-05-15 -0.001139 -0.006842      -0.010064  \n",
       "2018-05-16  0.003341  0.004061       0.009403  \n",
       "2018-05-17  0.005205 -0.000856      -0.001595  \n",
       "2018-05-18 -0.002496 -0.002632      -0.006061  "
      ]
     },
     "execution_count": 234,
     "metadata": {},
     "output_type": "execute_result"
    }
   ],
   "source": [
    "# Join your returns DataFrame to the original returns DataFrame\n",
    "orig_with_new_port = pd.concat([all_returns, port_returns], axis=\"columns\", join=\"inner\")\n",
    "orig_with_new_port.head()"
   ]
  },
  {
   "cell_type": "code",
   "execution_count": 235,
   "metadata": {},
   "outputs": [
    {
     "data": {
      "text/html": [
       "<div>\n",
       "<style scoped>\n",
       "    .dataframe tbody tr th:only-of-type {\n",
       "        vertical-align: middle;\n",
       "    }\n",
       "\n",
       "    .dataframe tbody tr th {\n",
       "        vertical-align: top;\n",
       "    }\n",
       "\n",
       "    .dataframe thead th {\n",
       "        text-align: right;\n",
       "    }\n",
       "</style>\n",
       "<table border=\"1\" class=\"dataframe\">\n",
       "  <thead>\n",
       "    <tr style=\"text-align: right;\">\n",
       "      <th></th>\n",
       "      <th>SOROS FUND MANAGEMENT LLC</th>\n",
       "      <th>PAULSON &amp; CO.INC.</th>\n",
       "      <th>TIGER GLOBAL MANAGEMENT LLC</th>\n",
       "      <th>BERKSHIRE HATHAWAY INC</th>\n",
       "      <th>Algo 1</th>\n",
       "      <th>Algo 2</th>\n",
       "      <th>S&amp;P 500</th>\n",
       "      <th>New Portfolio</th>\n",
       "    </tr>\n",
       "  </thead>\n",
       "  <tbody>\n",
       "    <tr>\n",
       "      <th>2018-05-14</th>\n",
       "      <td>0.000000</td>\n",
       "      <td>0.000000</td>\n",
       "      <td>0.000000</td>\n",
       "      <td>0.000000</td>\n",
       "      <td>0.000915</td>\n",
       "      <td>0.001635</td>\n",
       "      <td>0.000884</td>\n",
       "      <td>0.000015</td>\n",
       "    </tr>\n",
       "    <tr>\n",
       "      <th>2018-05-15</th>\n",
       "      <td>-0.000726</td>\n",
       "      <td>-0.001409</td>\n",
       "      <td>-0.003189</td>\n",
       "      <td>-0.014606</td>\n",
       "      <td>-0.001135</td>\n",
       "      <td>-0.001139</td>\n",
       "      <td>-0.006842</td>\n",
       "      <td>-0.010064</td>\n",
       "    </tr>\n",
       "    <tr>\n",
       "      <th>2018-05-16</th>\n",
       "      <td>0.008637</td>\n",
       "      <td>0.006244</td>\n",
       "      <td>0.005480</td>\n",
       "      <td>0.004310</td>\n",
       "      <td>-0.002326</td>\n",
       "      <td>0.003341</td>\n",
       "      <td>0.004061</td>\n",
       "      <td>0.009403</td>\n",
       "    </tr>\n",
       "    <tr>\n",
       "      <th>2018-05-17</th>\n",
       "      <td>-0.001955</td>\n",
       "      <td>0.002524</td>\n",
       "      <td>-0.006267</td>\n",
       "      <td>-0.005140</td>\n",
       "      <td>-0.006949</td>\n",
       "      <td>0.005205</td>\n",
       "      <td>-0.000856</td>\n",
       "      <td>-0.001595</td>\n",
       "    </tr>\n",
       "    <tr>\n",
       "      <th>2018-05-18</th>\n",
       "      <td>-0.004357</td>\n",
       "      <td>-0.002672</td>\n",
       "      <td>-0.012832</td>\n",
       "      <td>-0.002212</td>\n",
       "      <td>0.002557</td>\n",
       "      <td>-0.002496</td>\n",
       "      <td>-0.002632</td>\n",
       "      <td>-0.006061</td>\n",
       "    </tr>\n",
       "    <tr>\n",
       "      <th>...</th>\n",
       "      <td>...</td>\n",
       "      <td>...</td>\n",
       "      <td>...</td>\n",
       "      <td>...</td>\n",
       "      <td>...</td>\n",
       "      <td>...</td>\n",
       "      <td>...</td>\n",
       "      <td>...</td>\n",
       "    </tr>\n",
       "    <tr>\n",
       "      <th>2019-04-16</th>\n",
       "      <td>0.002699</td>\n",
       "      <td>0.000388</td>\n",
       "      <td>-0.000831</td>\n",
       "      <td>0.000837</td>\n",
       "      <td>-0.006945</td>\n",
       "      <td>0.002899</td>\n",
       "      <td>0.000509</td>\n",
       "      <td>0.000340</td>\n",
       "    </tr>\n",
       "    <tr>\n",
       "      <th>2019-04-17</th>\n",
       "      <td>-0.002897</td>\n",
       "      <td>-0.006467</td>\n",
       "      <td>-0.004409</td>\n",
       "      <td>0.003222</td>\n",
       "      <td>-0.010301</td>\n",
       "      <td>-0.005228</td>\n",
       "      <td>-0.002274</td>\n",
       "      <td>0.009292</td>\n",
       "    </tr>\n",
       "    <tr>\n",
       "      <th>2019-04-18</th>\n",
       "      <td>0.001448</td>\n",
       "      <td>0.001222</td>\n",
       "      <td>0.000582</td>\n",
       "      <td>0.001916</td>\n",
       "      <td>-0.000588</td>\n",
       "      <td>-0.001229</td>\n",
       "      <td>0.001579</td>\n",
       "      <td>0.001545</td>\n",
       "    </tr>\n",
       "    <tr>\n",
       "      <th>2019-04-22</th>\n",
       "      <td>-0.002586</td>\n",
       "      <td>-0.007333</td>\n",
       "      <td>-0.003640</td>\n",
       "      <td>-0.001088</td>\n",
       "      <td>0.000677</td>\n",
       "      <td>-0.001936</td>\n",
       "      <td>0.001012</td>\n",
       "      <td>0.001217</td>\n",
       "    </tr>\n",
       "    <tr>\n",
       "      <th>2019-04-23</th>\n",
       "      <td>0.007167</td>\n",
       "      <td>0.003485</td>\n",
       "      <td>0.006472</td>\n",
       "      <td>0.013278</td>\n",
       "      <td>0.004969</td>\n",
       "      <td>0.009622</td>\n",
       "      <td>0.008841</td>\n",
       "      <td>0.011959</td>\n",
       "    </tr>\n",
       "  </tbody>\n",
       "</table>\n",
       "<p>237 rows × 8 columns</p>\n",
       "</div>"
      ],
      "text/plain": [
       "            SOROS FUND MANAGEMENT LLC  PAULSON & CO.INC.   \\\n",
       "2018-05-14                   0.000000            0.000000   \n",
       "2018-05-15                  -0.000726           -0.001409   \n",
       "2018-05-16                   0.008637            0.006244   \n",
       "2018-05-17                  -0.001955            0.002524   \n",
       "2018-05-18                  -0.004357           -0.002672   \n",
       "...                               ...                 ...   \n",
       "2019-04-16                   0.002699            0.000388   \n",
       "2019-04-17                  -0.002897           -0.006467   \n",
       "2019-04-18                   0.001448            0.001222   \n",
       "2019-04-22                  -0.002586           -0.007333   \n",
       "2019-04-23                   0.007167            0.003485   \n",
       "\n",
       "            TIGER GLOBAL MANAGEMENT LLC  BERKSHIRE HATHAWAY INC    Algo 1  \\\n",
       "2018-05-14                     0.000000                0.000000  0.000915   \n",
       "2018-05-15                    -0.003189               -0.014606 -0.001135   \n",
       "2018-05-16                     0.005480                0.004310 -0.002326   \n",
       "2018-05-17                    -0.006267               -0.005140 -0.006949   \n",
       "2018-05-18                    -0.012832               -0.002212  0.002557   \n",
       "...                                 ...                     ...       ...   \n",
       "2019-04-16                    -0.000831                0.000837 -0.006945   \n",
       "2019-04-17                    -0.004409                0.003222 -0.010301   \n",
       "2019-04-18                     0.000582                0.001916 -0.000588   \n",
       "2019-04-22                    -0.003640               -0.001088  0.000677   \n",
       "2019-04-23                     0.006472                0.013278  0.004969   \n",
       "\n",
       "              Algo 2   S&P 500  New Portfolio  \n",
       "2018-05-14  0.001635  0.000884       0.000015  \n",
       "2018-05-15 -0.001139 -0.006842      -0.010064  \n",
       "2018-05-16  0.003341  0.004061       0.009403  \n",
       "2018-05-17  0.005205 -0.000856      -0.001595  \n",
       "2018-05-18 -0.002496 -0.002632      -0.006061  \n",
       "...              ...       ...            ...  \n",
       "2019-04-16  0.002899  0.000509       0.000340  \n",
       "2019-04-17 -0.005228 -0.002274       0.009292  \n",
       "2019-04-18 -0.001229  0.001579       0.001545  \n",
       "2019-04-22 -0.001936  0.001012       0.001217  \n",
       "2019-04-23  0.009622  0.008841       0.011959  \n",
       "\n",
       "[237 rows x 8 columns]"
      ]
     },
     "execution_count": 235,
     "metadata": {},
     "output_type": "execute_result"
    }
   ],
   "source": [
    "# Only compare dates where return data exists for all the stocks (drop NaNs)\n",
    "orig_with_new_port.isnull().sum()\n",
    "orig_with_new_port.dropna()\n"
   ]
  },
  {
   "cell_type": "markdown",
   "metadata": {},
   "source": [
    "## Re-run the risk analysis with your portfolio to see how it compares to the others"
   ]
  },
  {
   "cell_type": "markdown",
   "metadata": {},
   "source": [
    "### Calculate the Annualized Standard Deviation"
   ]
  },
  {
   "cell_type": "code",
   "execution_count": 236,
   "metadata": {},
   "outputs": [
    {
     "data": {
      "text/plain": [
       "SOROS FUND MANAGEMENT LLC      0.009240\n",
       "PAULSON & CO.INC.              0.007353\n",
       "TIGER GLOBAL MANAGEMENT LLC    0.014648\n",
       "BERKSHIRE HATHAWAY INC         0.015569\n",
       "Algo 1                         0.008423\n",
       "Algo 2                         0.008791\n",
       "S&P 500                        0.009578\n",
       "New Portfolio                  0.013323\n",
       "dtype: float64"
      ]
     },
     "execution_count": 236,
     "metadata": {},
     "output_type": "execute_result"
    }
   ],
   "source": [
    "# Calculate the annualized `std`\n",
    "orig_with_new_port_std = orig_with_new_port.std()\n",
    "orig_with_new_port_std\n"
   ]
  },
  {
   "cell_type": "markdown",
   "metadata": {},
   "source": [
    "### Calculate and plot rolling `std` with 21-day window"
   ]
  },
  {
   "cell_type": "code",
   "execution_count": 237,
   "metadata": {},
   "outputs": [
    {
     "data": {
      "text/plain": [
       "<AxesSubplot:>"
      ]
     },
     "execution_count": 237,
     "metadata": {},
     "output_type": "execute_result"
    },
    {
     "data": {
      "image/png": "[encoded data removed]",
      "text/plain": [
       "<Figure size 432x288 with 1 Axes>"
      ]
     },
     "metadata": {
      "needs_background": "light"
     },
     "output_type": "display_data"
    }
   ],
   "source": [
    "# Calculate rolling standard deviation\n",
    "orig_with_new_rolling21_std = orig_with_new_port.rolling(window=21).std()\n",
    "\n",
    "# Plot the rolling standard deviation\n",
    "orig_with_new_rolling21_std.plot()\n"
   ]
  },
  {
   "cell_type": "markdown",
   "metadata": {},
   "source": [
    "### Calculate and plot the correlation"
   ]
  },
  {
   "cell_type": "code",
   "execution_count": 238,
   "metadata": {},
   "outputs": [
    {
     "data": {
      "text/html": [
       "<style  type=\"text/css\" >\n",
       "#T_f56c0_row0_col0,#T_f56c0_row1_col1,#T_f56c0_row2_col2,#T_f56c0_row3_col3,#T_f56c0_row4_col4,#T_f56c0_row5_col5,#T_f56c0_row6_col6,#T_f56c0_row7_col7{\n",
       "            background-color:  #b40426;\n",
       "            color:  #f1f1f1;\n",
       "        }#T_f56c0_row0_col1{\n",
       "            background-color:  #f7b599;\n",
       "            color:  #000000;\n",
       "        }#T_f56c0_row0_col2,#T_f56c0_row6_col2{\n",
       "            background-color:  #c4d5f3;\n",
       "            color:  #000000;\n",
       "        }#T_f56c0_row0_col3{\n",
       "            background-color:  #f6a283;\n",
       "            color:  #000000;\n",
       "        }#T_f56c0_row0_col4{\n",
       "            background-color:  #8db0fe;\n",
       "            color:  #000000;\n",
       "        }#T_f56c0_row0_col5{\n",
       "            background-color:  #f08b6e;\n",
       "            color:  #000000;\n",
       "        }#T_f56c0_row0_col6,#T_f56c0_row5_col6,#T_f56c0_row6_col7{\n",
       "            background-color:  #e9785d;\n",
       "            color:  #000000;\n",
       "        }#T_f56c0_row0_col7{\n",
       "            background-color:  #f5c0a7;\n",
       "            color:  #000000;\n",
       "        }#T_f56c0_row1_col0{\n",
       "            background-color:  #f7b194;\n",
       "            color:  #000000;\n",
       "        }#T_f56c0_row1_col2{\n",
       "            background-color:  #c6d6f1;\n",
       "            color:  #000000;\n",
       "        }#T_f56c0_row1_col3{\n",
       "            background-color:  #d8dce2;\n",
       "            color:  #000000;\n",
       "        }#T_f56c0_row1_col4{\n",
       "            background-color:  #97b8ff;\n",
       "            color:  #000000;\n",
       "        }#T_f56c0_row1_col5,#T_f56c0_row3_col5{\n",
       "            background-color:  #f7ba9f;\n",
       "            color:  #000000;\n",
       "        }#T_f56c0_row1_col6{\n",
       "            background-color:  #f7b79b;\n",
       "            color:  #000000;\n",
       "        }#T_f56c0_row1_col7{\n",
       "            background-color:  #e1dad6;\n",
       "            color:  #000000;\n",
       "        }#T_f56c0_row2_col0{\n",
       "            background-color:  #80a3fa;\n",
       "            color:  #000000;\n",
       "        }#T_f56c0_row2_col1{\n",
       "            background-color:  #799cf8;\n",
       "            color:  #000000;\n",
       "        }#T_f56c0_row2_col3,#T_f56c0_row2_col4,#T_f56c0_row4_col0,#T_f56c0_row4_col1,#T_f56c0_row4_col2,#T_f56c0_row4_col3,#T_f56c0_row4_col5,#T_f56c0_row4_col6,#T_f56c0_row4_col7{\n",
       "            background-color:  #3b4cc0;\n",
       "            color:  #f1f1f1;\n",
       "        }#T_f56c0_row2_col5{\n",
       "            background-color:  #4f69d9;\n",
       "            color:  #000000;\n",
       "        }#T_f56c0_row2_col6{\n",
       "            background-color:  #94b6ff;\n",
       "            color:  #000000;\n",
       "        }#T_f56c0_row2_col7{\n",
       "            background-color:  #7396f5;\n",
       "            color:  #000000;\n",
       "        }#T_f56c0_row3_col0{\n",
       "            background-color:  #f6a385;\n",
       "            color:  #000000;\n",
       "        }#T_f56c0_row3_col1{\n",
       "            background-color:  #d1dae9;\n",
       "            color:  #000000;\n",
       "        }#T_f56c0_row3_col2{\n",
       "            background-color:  #88abfd;\n",
       "            color:  #000000;\n",
       "        }#T_f56c0_row3_col4{\n",
       "            background-color:  #89acfd;\n",
       "            color:  #000000;\n",
       "        }#T_f56c0_row3_col6,#T_f56c0_row5_col0{\n",
       "            background-color:  #ef886b;\n",
       "            color:  #000000;\n",
       "        }#T_f56c0_row3_col7{\n",
       "            background-color:  #f5a081;\n",
       "            color:  #000000;\n",
       "        }#T_f56c0_row5_col1{\n",
       "            background-color:  #f7b99e;\n",
       "            color:  #000000;\n",
       "        }#T_f56c0_row5_col2{\n",
       "            background-color:  #aac7fd;\n",
       "            color:  #000000;\n",
       "        }#T_f56c0_row5_col3{\n",
       "            background-color:  #f7b497;\n",
       "            color:  #000000;\n",
       "        }#T_f56c0_row5_col4{\n",
       "            background-color:  #98b9ff;\n",
       "            color:  #000000;\n",
       "        }#T_f56c0_row5_col7{\n",
       "            background-color:  #f6bea4;\n",
       "            color:  #000000;\n",
       "        }#T_f56c0_row6_col0{\n",
       "            background-color:  #eb7d62;\n",
       "            color:  #000000;\n",
       "        }#T_f56c0_row6_col1{\n",
       "            background-color:  #f5c1a9;\n",
       "            color:  #000000;\n",
       "        }#T_f56c0_row6_col3{\n",
       "            background-color:  #f18d6f;\n",
       "            color:  #000000;\n",
       "        }#T_f56c0_row6_col4{\n",
       "            background-color:  #7a9df8;\n",
       "            color:  #000000;\n",
       "        }#T_f56c0_row6_col5{\n",
       "            background-color:  #ed8366;\n",
       "            color:  #000000;\n",
       "        }#T_f56c0_row7_col0{\n",
       "            background-color:  #f1ccb8;\n",
       "            color:  #000000;\n",
       "        }#T_f56c0_row7_col1{\n",
       "            background-color:  #cdd9ec;\n",
       "            color:  #000000;\n",
       "        }#T_f56c0_row7_col2{\n",
       "            background-color:  #a3c2fe;\n",
       "            color:  #000000;\n",
       "        }#T_f56c0_row7_col3{\n",
       "            background-color:  #f7aa8c;\n",
       "            color:  #000000;\n",
       "        }#T_f56c0_row7_col4{\n",
       "            background-color:  #6f92f3;\n",
       "            color:  #000000;\n",
       "        }#T_f56c0_row7_col5{\n",
       "            background-color:  #f1cdba;\n",
       "            color:  #000000;\n",
       "        }#T_f56c0_row7_col6{\n",
       "            background-color:  #ea7b60;\n",
       "            color:  #000000;\n",
       "        }</style><table id=\"T_f56c0_\" ><thead>    <tr>        <th class=\"blank level0\" ></th>        <th class=\"col_heading level0 col0\" >SOROS FUND MANAGEMENT LLC</th>        <th class=\"col_heading level0 col1\" >PAULSON & CO.INC. </th>        <th class=\"col_heading level0 col2\" >TIGER GLOBAL MANAGEMENT LLC</th>        <th class=\"col_heading level0 col3\" >BERKSHIRE HATHAWAY INC</th>        <th class=\"col_heading level0 col4\" >Algo 1</th>        <th class=\"col_heading level0 col5\" >Algo 2</th>        <th class=\"col_heading level0 col6\" >S&P 500</th>        <th class=\"col_heading level0 col7\" >New Portfolio</th>    </tr></thead><tbody>\n",
       "                <tr>\n",
       "                        <th id=\"T_f56c0_level0_row0\" class=\"row_heading level0 row0\" >SOROS FUND MANAGEMENT LLC</th>\n",
       "                        <td id=\"T_f56c0_row0_col0\" class=\"data row0 col0\" >1.000000</td>\n",
       "                        <td id=\"T_f56c0_row0_col1\" class=\"data row0 col1\" >0.791962</td>\n",
       "                        <td id=\"T_f56c0_row0_col2\" class=\"data row0 col2\" >0.478627</td>\n",
       "                        <td id=\"T_f56c0_row0_col3\" class=\"data row0 col3\" >0.816675</td>\n",
       "                        <td id=\"T_f56c0_row0_col4\" class=\"data row0 col4\" >0.337826</td>\n",
       "                        <td id=\"T_f56c0_row0_col5\" class=\"data row0 col5\" >0.862846</td>\n",
       "                        <td id=\"T_f56c0_row0_col6\" class=\"data row0 col6\" >0.876981</td>\n",
       "                        <td id=\"T_f56c0_row0_col7\" class=\"data row0 col7\" >0.733250</td>\n",
       "            </tr>\n",
       "            <tr>\n",
       "                        <th id=\"T_f56c0_level0_row1\" class=\"row_heading level0 row1\" >PAULSON & CO.INC. </th>\n",
       "                        <td id=\"T_f56c0_row1_col0\" class=\"data row1 col0\" >0.791962</td>\n",
       "                        <td id=\"T_f56c0_row1_col1\" class=\"data row1 col1\" >1.000000</td>\n",
       "                        <td id=\"T_f56c0_row1_col2\" class=\"data row1 col2\" >0.485375</td>\n",
       "                        <td id=\"T_f56c0_row1_col3\" class=\"data row1 col3\" >0.650758</td>\n",
       "                        <td id=\"T_f56c0_row1_col4\" class=\"data row1 col4\" >0.361301</td>\n",
       "                        <td id=\"T_f56c0_row1_col5\" class=\"data row1 col5\" >0.783656</td>\n",
       "                        <td id=\"T_f56c0_row1_col6\" class=\"data row1 col6\" >0.766680</td>\n",
       "                        <td id=\"T_f56c0_row1_col7\" class=\"data row1 col7\" >0.644210</td>\n",
       "            </tr>\n",
       "            <tr>\n",
       "                        <th id=\"T_f56c0_level0_row2\" class=\"row_heading level0 row2\" >TIGER GLOBAL MANAGEMENT LLC</th>\n",
       "                        <td id=\"T_f56c0_row2_col0\" class=\"data row2 col0\" >0.478627</td>\n",
       "                        <td id=\"T_f56c0_row2_col1\" class=\"data row2 col1\" >0.485375</td>\n",
       "                        <td id=\"T_f56c0_row2_col2\" class=\"data row2 col2\" >1.000000</td>\n",
       "                        <td id=\"T_f56c0_row2_col3\" class=\"data row2 col3\" >0.325457</td>\n",
       "                        <td id=\"T_f56c0_row2_col4\" class=\"data row2 col4\" >0.114554</td>\n",
       "                        <td id=\"T_f56c0_row2_col5\" class=\"data row2 col5\" >0.409496</td>\n",
       "                        <td id=\"T_f56c0_row2_col6\" class=\"data row2 col6\" >0.481030</td>\n",
       "                        <td id=\"T_f56c0_row2_col7\" class=\"data row2 col7\" >0.391972</td>\n",
       "            </tr>\n",
       "            <tr>\n",
       "                        <th id=\"T_f56c0_level0_row3\" class=\"row_heading level0 row3\" >BERKSHIRE HATHAWAY INC</th>\n",
       "                        <td id=\"T_f56c0_row3_col0\" class=\"data row3 col0\" >0.816675</td>\n",
       "                        <td id=\"T_f56c0_row3_col1\" class=\"data row3 col1\" >0.650758</td>\n",
       "                        <td id=\"T_f56c0_row3_col2\" class=\"data row3 col2\" >0.325457</td>\n",
       "                        <td id=\"T_f56c0_row3_col3\" class=\"data row3 col3\" >1.000000</td>\n",
       "                        <td id=\"T_f56c0_row3_col4\" class=\"data row3 col4\" >0.327000</td>\n",
       "                        <td id=\"T_f56c0_row3_col5\" class=\"data row3 col5\" >0.782804</td>\n",
       "                        <td id=\"T_f56c0_row3_col6\" class=\"data row3 col6\" >0.852303</td>\n",
       "                        <td id=\"T_f56c0_row3_col7\" class=\"data row3 col7\" >0.801158</td>\n",
       "            </tr>\n",
       "            <tr>\n",
       "                        <th id=\"T_f56c0_level0_row4\" class=\"row_heading level0 row4\" >Algo 1</th>\n",
       "                        <td id=\"T_f56c0_row4_col0\" class=\"data row4 col0\" >0.337826</td>\n",
       "                        <td id=\"T_f56c0_row4_col1\" class=\"data row4 col1\" >0.361301</td>\n",
       "                        <td id=\"T_f56c0_row4_col2\" class=\"data row4 col2\" >0.114554</td>\n",
       "                        <td id=\"T_f56c0_row4_col3\" class=\"data row4 col3\" >0.327000</td>\n",
       "                        <td id=\"T_f56c0_row4_col4\" class=\"data row4 col4\" >1.000000</td>\n",
       "                        <td id=\"T_f56c0_row4_col5\" class=\"data row4 col5\" >0.365512</td>\n",
       "                        <td id=\"T_f56c0_row4_col6\" class=\"data row4 col6\" >0.289358</td>\n",
       "                        <td id=\"T_f56c0_row4_col7\" class=\"data row4 col7\" >0.261471</td>\n",
       "            </tr>\n",
       "            <tr>\n",
       "                        <th id=\"T_f56c0_level0_row5\" class=\"row_heading level0 row5\" >Algo 2</th>\n",
       "                        <td id=\"T_f56c0_row5_col0\" class=\"data row5 col0\" >0.862846</td>\n",
       "                        <td id=\"T_f56c0_row5_col1\" class=\"data row5 col1\" >0.783656</td>\n",
       "                        <td id=\"T_f56c0_row5_col2\" class=\"data row5 col2\" >0.409496</td>\n",
       "                        <td id=\"T_f56c0_row5_col3\" class=\"data row5 col3\" >0.782804</td>\n",
       "                        <td id=\"T_f56c0_row5_col4\" class=\"data row5 col4\" >0.365512</td>\n",
       "                        <td id=\"T_f56c0_row5_col5\" class=\"data row5 col5\" >1.000000</td>\n",
       "                        <td id=\"T_f56c0_row5_col6\" class=\"data row5 col6\" >0.875721</td>\n",
       "                        <td id=\"T_f56c0_row5_col7\" class=\"data row5 col7\" >0.739936</td>\n",
       "            </tr>\n",
       "            <tr>\n",
       "                        <th id=\"T_f56c0_level0_row6\" class=\"row_heading level0 row6\" >S&P 500</th>\n",
       "                        <td id=\"T_f56c0_row6_col0\" class=\"data row6 col0\" >0.876981</td>\n",
       "                        <td id=\"T_f56c0_row6_col1\" class=\"data row6 col1\" >0.766680</td>\n",
       "                        <td id=\"T_f56c0_row6_col2\" class=\"data row6 col2\" >0.481030</td>\n",
       "                        <td id=\"T_f56c0_row6_col3\" class=\"data row6 col3\" >0.852303</td>\n",
       "                        <td id=\"T_f56c0_row6_col4\" class=\"data row6 col4\" >0.289358</td>\n",
       "                        <td id=\"T_f56c0_row6_col5\" class=\"data row6 col5\" >0.875721</td>\n",
       "                        <td id=\"T_f56c0_row6_col6\" class=\"data row6 col6\" >1.000000</td>\n",
       "                        <td id=\"T_f56c0_row6_col7\" class=\"data row6 col7\" >0.871875</td>\n",
       "            </tr>\n",
       "            <tr>\n",
       "                        <th id=\"T_f56c0_level0_row7\" class=\"row_heading level0 row7\" >New Portfolio</th>\n",
       "                        <td id=\"T_f56c0_row7_col0\" class=\"data row7 col0\" >0.733250</td>\n",
       "                        <td id=\"T_f56c0_row7_col1\" class=\"data row7 col1\" >0.644210</td>\n",
       "                        <td id=\"T_f56c0_row7_col2\" class=\"data row7 col2\" >0.391972</td>\n",
       "                        <td id=\"T_f56c0_row7_col3\" class=\"data row7 col3\" >0.801158</td>\n",
       "                        <td id=\"T_f56c0_row7_col4\" class=\"data row7 col4\" >0.261471</td>\n",
       "                        <td id=\"T_f56c0_row7_col5\" class=\"data row7 col5\" >0.739936</td>\n",
       "                        <td id=\"T_f56c0_row7_col6\" class=\"data row7 col6\" >0.871875</td>\n",
       "                        <td id=\"T_f56c0_row7_col7\" class=\"data row7 col7\" >1.000000</td>\n",
       "            </tr>\n",
       "    </tbody></table>"
      ],
      "text/plain": [
       "<pandas.io.formats.style.Styler at 0x2e43328ddc0>"
      ]
     },
     "execution_count": 238,
     "metadata": {},
     "output_type": "execute_result"
    }
   ],
   "source": [
    "# Calculate and plot the correlation\n",
    "orig_with_new_correlation = orig_with_new_port.corr()\n",
    "orig_with_new_correlation.style.background_gradient(cmap='coolwarm')\n"
   ]
  },
  {
   "cell_type": "markdown",
   "metadata": {},
   "source": [
    "### Calculate and Plot Rolling 60-day Beta for Your Portfolio compared to the S&P 500"
   ]
  },
  {
   "cell_type": "code",
   "execution_count": 239,
   "metadata": {},
   "outputs": [
    {
     "data": {
      "text/plain": [
       "<AxesSubplot:>"
      ]
     },
     "execution_count": 239,
     "metadata": {},
     "output_type": "execute_result"
    },
    {
     "data": {
      "image/png": "[encoded data removed]",
      "text/plain": [
       "<Figure size 432x288 with 1 Axes>"
      ]
     },
     "metadata": {
      "needs_background": "light"
     },
     "output_type": "display_data"
    }
   ],
   "source": [
    "# Calculate and plot Beta\n",
    "\n",
    "# Calculate covariance of a single portfolio\n",
    "new_port_covar_roll60day = orig_with_new_port[\"New Portfolio\"].rolling(window=60).cov(orig_with_new_port[\"S&P 500\"])\n",
    "\n",
    "# Calculate variance of S&P 500\n",
    "new_port_sp500_var_roll60day = orig_with_new_port[\"S&P 500\"].rolling(window=60).var()\n",
    "\n",
    "\n",
    "# Computing beta\n",
    "new_port_beta_roll60day = new_port_covar_roll60day / new_port_sp500_var_roll60day\n",
    "\n",
    "# Plot beta trend\n",
    "new_port_beta_roll60day.plot()"
   ]
  },
  {
   "cell_type": "markdown",
   "metadata": {},
   "source": [
    "### Using the daily returns, calculate and visualize the Sharpe ratios using a bar plot"
   ]
  },
  {
   "cell_type": "code",
   "execution_count": 240,
   "metadata": {},
   "outputs": [
    {
     "data": {
      "text/plain": [
       "SOROS FUND MANAGEMENT LLC      0.430713\n",
       "PAULSON & CO.INC.              0.258738\n",
       "TIGER GLOBAL MANAGEMENT LLC   -1.034216\n",
       "BERKSHIRE HATHAWAY INC         0.159756\n",
       "Algo 1                         2.035665\n",
       "Algo 2                         0.080607\n",
       "S&P 500                        0.584820\n",
       "New Portfolio                  0.933123\n",
       "dtype: float64"
      ]
     },
     "execution_count": 240,
     "metadata": {},
     "output_type": "execute_result"
    }
   ],
   "source": [
    "# Calculate Annualzied Sharpe Ratios\n",
    "orig_with_new_port_sharpe = (orig_with_new_port.mean() * 252) / (orig_with_new_port.std() * np.sqrt(252))\n",
    "orig_with_new_port_sharpe"
   ]
  },
  {
   "cell_type": "code",
   "execution_count": 241,
   "metadata": {},
   "outputs": [
    {
     "data": {
      "text/plain": [
       "<AxesSubplot:>"
      ]
     },
     "execution_count": 241,
     "metadata": {},
     "output_type": "execute_result"
    },
    {
     "data": {
      "image/png": "[encoded data removed]",
      "text/plain": [
       "<Figure size 432x288 with 1 Axes>"
      ]
     },
     "metadata": {
      "needs_background": "light"
     },
     "output_type": "display_data"
    }
   ],
   "source": [
    "# Visualize the sharpe ratios as a bar plot\n",
    "orig_with_new_port_sharpe.plot.bar()"
   ]
  },
  {
   "cell_type": "code",
   "execution_count": 242,
   "metadata": {},
   "outputs": [
    {
     "data": {
      "text/plain": [
       "<AxesSubplot:>"
      ]
     },
     "execution_count": 242,
     "metadata": {},
     "output_type": "execute_result"
    },
    {
     "data": {
      "image/png": "[encoded data removed]",
      "text/plain": [
       "<Figure size 432x288 with 1 Axes>"
      ]
     },
     "metadata": {
      "needs_background": "light"
     },
     "output_type": "display_data"
    }
   ],
   "source": [
    "# Added cell to plot the cummulative return over time\n",
    "\n",
    "# Calculate cumulative returns of all portfolios\n",
    "new_cumulative_returns = (1+orig_with_new_port).cumprod()-1\n",
    "\n",
    "# Plot cumulative returns\n",
    "new_cumulative_returns.plot()"
   ]
  },
  {
   "cell_type": "markdown",
   "metadata": {},
   "source": [
    "### How does your portfolio do?\n",
    "\n",
    "The new portfolio is a market beater with a Sharpe ratio of 0.93, and it outperforms all of the whales (highest is Soros Fund at 0.43 Sharpe) and the S&P 500 (Sharpe ratio of 0.58).  While it does beat the whales and the market, it does not reach a 1.0, which is the typical point at which an investment can be considered good.  Additionally, the original Algorithim 1 was an even stronger performer and with a Sharpe ratio of 2.04 it more than doubles the ratio of the new portfolio. Overall, compared to all other investment options, this new portfolio is one of the stronger contenders, although the preference would be to invest in Algorithim 1."
   ]
  },
  {
   "cell_type": "code",
   "execution_count": null,
   "metadata": {},
   "outputs": [],
   "source": []
  }
 ],
 "metadata": {
  "file_extension": ".py",
  "kernelspec": {
   "display_name": "Python 3",
   "language": "python",
   "name": "python3"
  },
  "language_info": {
   "codemirror_mode": {
    "name": "ipython",
    "version": 3
   },
   "file_extension": ".py",
   "mimetype": "text/x-python",
   "name": "python",
   "nbconvert_exporter": "python",
   "pygments_lexer": "ipython3",
   "version": "3.8.5"
  },
  "mimetype": "text/x-python",
  "name": "python",
  "npconvert_exporter": "python",
  "pygments_lexer": "ipython3",
  "version": 3
 },
 "nbformat": 4,
 "nbformat_minor": 4
}
